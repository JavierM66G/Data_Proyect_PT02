{
 "cells": [
  {
   "cell_type": "code",
   "execution_count": 1,
   "metadata": {},
   "outputs": [],
   "source": [
    "##Importamos las librerias correspondientes, antes se instalaron con pip install - pandas, numpy, matplot...etc\n",
    "import pandas as pd\n",
    "import matplotlib.pyplot as plt\n",
    "import seaborn as sns\n",
    "import numpy as np  \n",
    "import missingno as msno\n",
    "import ast\n",
    "import json\n",
    "\n",
    "\n",
    "\n",
    "sns.set_theme(color_codes= True)\n",
    "pd.set_option('display.max_columns', None)\n",
    "pd.set_option('display.max_rows', None)\n",
    "pd.set_option(\"max_colwidth\", 100)"
   ]
  },
  {
   "cell_type": "code",
   "execution_count": 2,
   "metadata": {},
   "outputs": [
    {
     "name": "stderr",
     "output_type": "stream",
     "text": [
      "C:\\Users\\Raksasa\\AppData\\Local\\Temp\\ipykernel_208\\3818548.py:2: DtypeWarning: Columns (10) have mixed types. Specify dtype option on import or set low_memory=False.\n",
      "  df_Movies = pd.read_csv('DATA/movies_dataset.csv')\n"
     ]
    }
   ],
   "source": [
    "##Leemos los archivos csv con pandas\n",
    "df_Movies = pd.read_csv('DATA/movies_dataset.csv')\n",
    "df_credits = pd.read_csv('DATA/credits.csv')"
   ]
  },
  {
   "cell_type": "code",
   "execution_count": 3,
   "metadata": {},
   "outputs": [
    {
     "data": {
      "text/plain": [
       "(45466, 24)"
      ]
     },
     "execution_count": 3,
     "metadata": {},
     "output_type": "execute_result"
    }
   ],
   "source": [
    "df_Movies.shape"
   ]
  },
  {
   "cell_type": "code",
   "execution_count": 4,
   "metadata": {},
   "outputs": [
    {
     "data": {
      "text/plain": [
       "(45504, 3)"
      ]
     },
     "execution_count": 4,
     "metadata": {},
     "output_type": "execute_result"
    }
   ],
   "source": [
    "df_credits.shape"
   ]
  },
  {
   "cell_type": "code",
   "execution_count": 5,
   "metadata": {},
   "outputs": [
    {
     "data": {
      "text/html": [
       "<div>\n",
       "<style scoped>\n",
       "    .dataframe tbody tr th:only-of-type {\n",
       "        vertical-align: middle;\n",
       "    }\n",
       "\n",
       "    .dataframe tbody tr th {\n",
       "        vertical-align: top;\n",
       "    }\n",
       "\n",
       "    .dataframe thead th {\n",
       "        text-align: right;\n",
       "    }\n",
       "</style>\n",
       "<table border=\"1\" class=\"dataframe\">\n",
       "  <thead>\n",
       "    <tr style=\"text-align: right;\">\n",
       "      <th></th>\n",
       "      <th>adult</th>\n",
       "      <th>belongs_to_collection</th>\n",
       "      <th>budget</th>\n",
       "      <th>genres</th>\n",
       "      <th>homepage</th>\n",
       "      <th>id</th>\n",
       "      <th>imdb_id</th>\n",
       "      <th>original_language</th>\n",
       "      <th>original_title</th>\n",
       "      <th>overview</th>\n",
       "      <th>popularity</th>\n",
       "      <th>poster_path</th>\n",
       "      <th>production_companies</th>\n",
       "      <th>production_countries</th>\n",
       "      <th>release_date</th>\n",
       "      <th>revenue</th>\n",
       "      <th>runtime</th>\n",
       "      <th>spoken_languages</th>\n",
       "      <th>status</th>\n",
       "      <th>tagline</th>\n",
       "      <th>title</th>\n",
       "      <th>video</th>\n",
       "      <th>vote_average</th>\n",
       "      <th>vote_count</th>\n",
       "    </tr>\n",
       "  </thead>\n",
       "  <tbody>\n",
       "    <tr>\n",
       "      <th>0</th>\n",
       "      <td>False</td>\n",
       "      <td>{'id': 10194, 'name': 'Toy Story Collection', 'poster_path': '/7G9915LfUQ2lVfwMEEhDsn3kT4B.jpg',...</td>\n",
       "      <td>30000000</td>\n",
       "      <td>[{'id': 16, 'name': 'Animation'}, {'id': 35, 'name': 'Comedy'}, {'id': 10751, 'name': 'Family'}]</td>\n",
       "      <td>http://toystory.disney.com/toy-story</td>\n",
       "      <td>862</td>\n",
       "      <td>tt0114709</td>\n",
       "      <td>en</td>\n",
       "      <td>Toy Story</td>\n",
       "      <td>Led by Woody, Andy's toys live happily in his room until Andy's birthday brings Buzz Lightyear o...</td>\n",
       "      <td>21.946943</td>\n",
       "      <td>/rhIRbceoE9lR4veEXuwCC2wARtG.jpg</td>\n",
       "      <td>[{'name': 'Pixar Animation Studios', 'id': 3}]</td>\n",
       "      <td>[{'iso_3166_1': 'US', 'name': 'United States of America'}]</td>\n",
       "      <td>1995-10-30</td>\n",
       "      <td>373554033.0</td>\n",
       "      <td>81.0</td>\n",
       "      <td>[{'iso_639_1': 'en', 'name': 'English'}]</td>\n",
       "      <td>Released</td>\n",
       "      <td>NaN</td>\n",
       "      <td>Toy Story</td>\n",
       "      <td>False</td>\n",
       "      <td>7.7</td>\n",
       "      <td>5415.0</td>\n",
       "    </tr>\n",
       "    <tr>\n",
       "      <th>1</th>\n",
       "      <td>False</td>\n",
       "      <td>NaN</td>\n",
       "      <td>65000000</td>\n",
       "      <td>[{'id': 12, 'name': 'Adventure'}, {'id': 14, 'name': 'Fantasy'}, {'id': 10751, 'name': 'Family'}]</td>\n",
       "      <td>NaN</td>\n",
       "      <td>8844</td>\n",
       "      <td>tt0113497</td>\n",
       "      <td>en</td>\n",
       "      <td>Jumanji</td>\n",
       "      <td>When siblings Judy and Peter discover an enchanted board game that opens the door to a magical w...</td>\n",
       "      <td>17.015539</td>\n",
       "      <td>/vzmL6fP7aPKNKPRTFnZmiUfciyV.jpg</td>\n",
       "      <td>[{'name': 'TriStar Pictures', 'id': 559}, {'name': 'Teitler Film', 'id': 2550}, {'name': 'Inters...</td>\n",
       "      <td>[{'iso_3166_1': 'US', 'name': 'United States of America'}]</td>\n",
       "      <td>1995-12-15</td>\n",
       "      <td>262797249.0</td>\n",
       "      <td>104.0</td>\n",
       "      <td>[{'iso_639_1': 'en', 'name': 'English'}, {'iso_639_1': 'fr', 'name': 'Français'}]</td>\n",
       "      <td>Released</td>\n",
       "      <td>Roll the dice and unleash the excitement!</td>\n",
       "      <td>Jumanji</td>\n",
       "      <td>False</td>\n",
       "      <td>6.9</td>\n",
       "      <td>2413.0</td>\n",
       "    </tr>\n",
       "  </tbody>\n",
       "</table>\n",
       "</div>"
      ],
      "text/plain": [
       "   adult  \\\n",
       "0  False   \n",
       "1  False   \n",
       "\n",
       "                                                                                 belongs_to_collection  \\\n",
       "0  {'id': 10194, 'name': 'Toy Story Collection', 'poster_path': '/7G9915LfUQ2lVfwMEEhDsn3kT4B.jpg',...   \n",
       "1                                                                                                  NaN   \n",
       "\n",
       "     budget  \\\n",
       "0  30000000   \n",
       "1  65000000   \n",
       "\n",
       "                                                                                              genres  \\\n",
       "0   [{'id': 16, 'name': 'Animation'}, {'id': 35, 'name': 'Comedy'}, {'id': 10751, 'name': 'Family'}]   \n",
       "1  [{'id': 12, 'name': 'Adventure'}, {'id': 14, 'name': 'Fantasy'}, {'id': 10751, 'name': 'Family'}]   \n",
       "\n",
       "                               homepage    id    imdb_id original_language  \\\n",
       "0  http://toystory.disney.com/toy-story   862  tt0114709                en   \n",
       "1                                   NaN  8844  tt0113497                en   \n",
       "\n",
       "  original_title  \\\n",
       "0      Toy Story   \n",
       "1        Jumanji   \n",
       "\n",
       "                                                                                              overview  \\\n",
       "0  Led by Woody, Andy's toys live happily in his room until Andy's birthday brings Buzz Lightyear o...   \n",
       "1  When siblings Judy and Peter discover an enchanted board game that opens the door to a magical w...   \n",
       "\n",
       "  popularity                       poster_path  \\\n",
       "0  21.946943  /rhIRbceoE9lR4veEXuwCC2wARtG.jpg   \n",
       "1  17.015539  /vzmL6fP7aPKNKPRTFnZmiUfciyV.jpg   \n",
       "\n",
       "                                                                                  production_companies  \\\n",
       "0                                                       [{'name': 'Pixar Animation Studios', 'id': 3}]   \n",
       "1  [{'name': 'TriStar Pictures', 'id': 559}, {'name': 'Teitler Film', 'id': 2550}, {'name': 'Inters...   \n",
       "\n",
       "                                         production_countries release_date  \\\n",
       "0  [{'iso_3166_1': 'US', 'name': 'United States of America'}]   1995-10-30   \n",
       "1  [{'iso_3166_1': 'US', 'name': 'United States of America'}]   1995-12-15   \n",
       "\n",
       "       revenue  runtime  \\\n",
       "0  373554033.0     81.0   \n",
       "1  262797249.0    104.0   \n",
       "\n",
       "                                                                    spoken_languages  \\\n",
       "0                                           [{'iso_639_1': 'en', 'name': 'English'}]   \n",
       "1  [{'iso_639_1': 'en', 'name': 'English'}, {'iso_639_1': 'fr', 'name': 'Français'}]   \n",
       "\n",
       "     status                                    tagline      title  video  \\\n",
       "0  Released                                        NaN  Toy Story  False   \n",
       "1  Released  Roll the dice and unleash the excitement!    Jumanji  False   \n",
       "\n",
       "   vote_average  vote_count  \n",
       "0           7.7      5415.0  \n",
       "1           6.9      2413.0  "
      ]
     },
     "execution_count": 5,
     "metadata": {},
     "output_type": "execute_result"
    }
   ],
   "source": [
    "df_Movies.head(2)"
   ]
  },
  {
   "cell_type": "code",
   "execution_count": 6,
   "metadata": {},
   "outputs": [
    {
     "data": {
      "text/html": [
       "<div>\n",
       "<style scoped>\n",
       "    .dataframe tbody tr th:only-of-type {\n",
       "        vertical-align: middle;\n",
       "    }\n",
       "\n",
       "    .dataframe tbody tr th {\n",
       "        vertical-align: top;\n",
       "    }\n",
       "\n",
       "    .dataframe thead th {\n",
       "        text-align: right;\n",
       "    }\n",
       "</style>\n",
       "<table border=\"1\" class=\"dataframe\">\n",
       "  <thead>\n",
       "    <tr style=\"text-align: right;\">\n",
       "      <th></th>\n",
       "      <th>cast</th>\n",
       "      <th>crew</th>\n",
       "      <th>id</th>\n",
       "    </tr>\n",
       "  </thead>\n",
       "  <tbody>\n",
       "    <tr>\n",
       "      <th>0</th>\n",
       "      <td>[{'cast_id': 14, 'character': 'Woody (voice)', 'credit_id': '52fe4284c3a36847f8024f95', 'gender'...</td>\n",
       "      <td>[{'credit_id': '52fe4284c3a36847f8024f49', 'department': 'Directing', 'gender': 2, 'id': 7879, '...</td>\n",
       "      <td>862</td>\n",
       "    </tr>\n",
       "    <tr>\n",
       "      <th>1</th>\n",
       "      <td>[{'cast_id': 1, 'character': 'Alan Parrish', 'credit_id': '52fe44bfc3a36847f80a7c73', 'gender': ...</td>\n",
       "      <td>[{'credit_id': '52fe44bfc3a36847f80a7cd1', 'department': 'Production', 'gender': 2, 'id': 511, '...</td>\n",
       "      <td>8844</td>\n",
       "    </tr>\n",
       "  </tbody>\n",
       "</table>\n",
       "</div>"
      ],
      "text/plain": [
       "                                                                                                  cast  \\\n",
       "0  [{'cast_id': 14, 'character': 'Woody (voice)', 'credit_id': '52fe4284c3a36847f8024f95', 'gender'...   \n",
       "1  [{'cast_id': 1, 'character': 'Alan Parrish', 'credit_id': '52fe44bfc3a36847f80a7c73', 'gender': ...   \n",
       "\n",
       "                                                                                                  crew  \\\n",
       "0  [{'credit_id': '52fe4284c3a36847f8024f49', 'department': 'Directing', 'gender': 2, 'id': 7879, '...   \n",
       "1  [{'credit_id': '52fe44bfc3a36847f80a7cd1', 'department': 'Production', 'gender': 2, 'id': 511, '...   \n",
       "\n",
       "     id  \n",
       "0   862  \n",
       "1  8844  "
      ]
     },
     "execution_count": 6,
     "metadata": {},
     "output_type": "execute_result"
    }
   ],
   "source": [
    "df_credits.head(2)"
   ]
  },
  {
   "cell_type": "code",
   "execution_count": 7,
   "metadata": {},
   "outputs": [
    {
     "data": {
      "text/html": [
       "<div>\n",
       "<style scoped>\n",
       "    .dataframe tbody tr th:only-of-type {\n",
       "        vertical-align: middle;\n",
       "    }\n",
       "\n",
       "    .dataframe tbody tr th {\n",
       "        vertical-align: top;\n",
       "    }\n",
       "\n",
       "    .dataframe thead th {\n",
       "        text-align: right;\n",
       "    }\n",
       "</style>\n",
       "<table border=\"1\" class=\"dataframe\">\n",
       "  <thead>\n",
       "    <tr style=\"text-align: right;\">\n",
       "      <th></th>\n",
       "      <th>revenue</th>\n",
       "      <th>runtime</th>\n",
       "      <th>vote_average</th>\n",
       "      <th>vote_count</th>\n",
       "    </tr>\n",
       "  </thead>\n",
       "  <tbody>\n",
       "    <tr>\n",
       "      <th>count</th>\n",
       "      <td>4.546000e+04</td>\n",
       "      <td>45203.000000</td>\n",
       "      <td>45460.000000</td>\n",
       "      <td>45460.000000</td>\n",
       "    </tr>\n",
       "    <tr>\n",
       "      <th>mean</th>\n",
       "      <td>1.120935e+07</td>\n",
       "      <td>94.128199</td>\n",
       "      <td>5.618207</td>\n",
       "      <td>109.897338</td>\n",
       "    </tr>\n",
       "    <tr>\n",
       "      <th>std</th>\n",
       "      <td>6.433225e+07</td>\n",
       "      <td>38.407810</td>\n",
       "      <td>1.924216</td>\n",
       "      <td>491.310374</td>\n",
       "    </tr>\n",
       "    <tr>\n",
       "      <th>min</th>\n",
       "      <td>0.000000e+00</td>\n",
       "      <td>0.000000</td>\n",
       "      <td>0.000000</td>\n",
       "      <td>0.000000</td>\n",
       "    </tr>\n",
       "    <tr>\n",
       "      <th>25%</th>\n",
       "      <td>0.000000e+00</td>\n",
       "      <td>85.000000</td>\n",
       "      <td>5.000000</td>\n",
       "      <td>3.000000</td>\n",
       "    </tr>\n",
       "    <tr>\n",
       "      <th>50%</th>\n",
       "      <td>0.000000e+00</td>\n",
       "      <td>95.000000</td>\n",
       "      <td>6.000000</td>\n",
       "      <td>10.000000</td>\n",
       "    </tr>\n",
       "    <tr>\n",
       "      <th>75%</th>\n",
       "      <td>0.000000e+00</td>\n",
       "      <td>107.000000</td>\n",
       "      <td>6.800000</td>\n",
       "      <td>34.000000</td>\n",
       "    </tr>\n",
       "    <tr>\n",
       "      <th>max</th>\n",
       "      <td>2.787965e+09</td>\n",
       "      <td>1256.000000</td>\n",
       "      <td>10.000000</td>\n",
       "      <td>14075.000000</td>\n",
       "    </tr>\n",
       "  </tbody>\n",
       "</table>\n",
       "</div>"
      ],
      "text/plain": [
       "            revenue       runtime  vote_average    vote_count\n",
       "count  4.546000e+04  45203.000000  45460.000000  45460.000000\n",
       "mean   1.120935e+07     94.128199      5.618207    109.897338\n",
       "std    6.433225e+07     38.407810      1.924216    491.310374\n",
       "min    0.000000e+00      0.000000      0.000000      0.000000\n",
       "25%    0.000000e+00     85.000000      5.000000      3.000000\n",
       "50%    0.000000e+00     95.000000      6.000000     10.000000\n",
       "75%    0.000000e+00    107.000000      6.800000     34.000000\n",
       "max    2.787965e+09   1256.000000     10.000000  14075.000000"
      ]
     },
     "execution_count": 7,
     "metadata": {},
     "output_type": "execute_result"
    }
   ],
   "source": [
    "df_Movies.describe()"
   ]
  },
  {
   "cell_type": "code",
   "execution_count": 8,
   "metadata": {},
   "outputs": [
    {
     "data": {
      "text/plain": [
       "adult                        0\n",
       "belongs_to_collection    40972\n",
       "budget                       0\n",
       "genres                       0\n",
       "homepage                 37684\n",
       "id                           0\n",
       "imdb_id                     17\n",
       "original_language           11\n",
       "original_title               0\n",
       "overview                   954\n",
       "popularity                   5\n",
       "poster_path                386\n",
       "production_companies         3\n",
       "production_countries         3\n",
       "release_date                87\n",
       "revenue                      6\n",
       "runtime                    263\n",
       "spoken_languages             6\n",
       "status                      87\n",
       "tagline                  25054\n",
       "title                        6\n",
       "video                        6\n",
       "vote_average                 6\n",
       "vote_count                   6\n",
       "dtype: int64"
      ]
     },
     "execution_count": 8,
     "metadata": {},
     "output_type": "execute_result"
    }
   ],
   "source": [
    "df_Movies.isnull().sum()"
   ]
  },
  {
   "cell_type": "code",
   "execution_count": 9,
   "metadata": {},
   "outputs": [
    {
     "data": {
      "text/plain": [
       "cast     1\n",
       "crew    11\n",
       "id      28\n",
       "dtype: int64"
      ]
     },
     "execution_count": 9,
     "metadata": {},
     "output_type": "execute_result"
    }
   ],
   "source": [
    "df_credits.isnull().sum()"
   ]
  },
  {
   "cell_type": "code",
   "execution_count": 10,
   "metadata": {},
   "outputs": [
    {
     "data": {
      "text/plain": [
       "adult                     object\n",
       "belongs_to_collection     object\n",
       "budget                    object\n",
       "genres                    object\n",
       "homepage                  object\n",
       "id                        object\n",
       "imdb_id                   object\n",
       "original_language         object\n",
       "original_title            object\n",
       "overview                  object\n",
       "popularity                object\n",
       "poster_path               object\n",
       "production_companies      object\n",
       "production_countries      object\n",
       "release_date              object\n",
       "revenue                  float64\n",
       "runtime                  float64\n",
       "spoken_languages          object\n",
       "status                    object\n",
       "tagline                   object\n",
       "title                     object\n",
       "video                     object\n",
       "vote_average             float64\n",
       "vote_count               float64\n",
       "dtype: object"
      ]
     },
     "execution_count": 10,
     "metadata": {},
     "output_type": "execute_result"
    }
   ],
   "source": [
    "df_Movies.dtypes"
   ]
  },
  {
   "cell_type": "code",
   "execution_count": 11,
   "metadata": {},
   "outputs": [
    {
     "data": {
      "text/plain": [
       "cast    object\n",
       "crew    object\n",
       "id      object\n",
       "dtype: object"
      ]
     },
     "execution_count": 11,
     "metadata": {},
     "output_type": "execute_result"
    }
   ],
   "source": [
    "df_credits.dtypes"
   ]
  },
  {
   "attachments": {},
   "cell_type": "markdown",
   "metadata": {},
   "source": [
    "## Preprocesando los datos "
   ]
  },
  {
   "cell_type": "code",
   "execution_count": 12,
   "metadata": {},
   "outputs": [],
   "source": [
    "def cambiar_valores_tabla(df):\n",
    "    # Obtener los valores de las columnas originales en las filas específicas\n",
    "    values = df_Movies.loc[[19730, 29503, 35587], 'adult':'release_date']\n",
    "\n",
    "    # Copiar los valores a las celdas correspondientes de las columnas deseadas\n",
    "    df_Movies.loc[[19730, 29503, 35587], 'overview':'vote_count'] = values.values\n",
    "\n",
    "    # Dejar en blanco las celdas desde 'adult' hasta 'original_title'\n",
    "    df_Movies.loc[[19730, 29503, 35587], 'adult':'original_title'] = ''\n",
    "\n",
    "    # Retornar el DataFrame modificado\n",
    "    return df_Movies"
   ]
  },
  {
   "cell_type": "code",
   "execution_count": 13,
   "metadata": {},
   "outputs": [],
   "source": [
    "df_Movies = cambiar_valores_tabla(df_Movies)"
   ]
  },
  {
   "cell_type": "code",
   "execution_count": 14,
   "metadata": {},
   "outputs": [
    {
     "name": "stdout",
     "output_type": "stream",
     "text": [
      "      adult belongs_to_collection budget genres homepage id imdb_id  \\\n",
      "19730                                                                 \n",
      "29503                                                                 \n",
      "35587                                                                 \n",
      "\n",
      "      original_language original_title  \\\n",
      "19730                                    \n",
      "29503                                    \n",
      "35587                                    \n",
      "\n",
      "                                                                                                  overview  \\\n",
      "19730                                                                                   - Written by Ørnås   \n",
      "29503   Rune Balot goes to a casino connected to the October corporation to try to wrap up her case onc...   \n",
      "35587   Avalanche Sharks tells the story of a bikini contest that turns into a horrifying affair when i...   \n",
      "\n",
      "      popularity                       poster_path  \\\n",
      "19730   0.065736  /ff9qCepilowshEtG2GYWwzt2bs4.jpg   \n",
      "29503   1.931659  /zV8bHuSL6WXoD6FWogP9j4x80bL.jpg   \n",
      "35587   2.185485  /zaSf5OG7V8X8gqFvly88zDdRm46.jpg   \n",
      "\n",
      "                                                                                      production_companies  \\\n",
      "19730  [{'name': 'Carousel Productions', 'id': 11176}, {'name': 'Vision View Entertainment', 'id': 1160...   \n",
      "29503  [{'name': 'Aniplex', 'id': 2883}, {'name': 'GoHands', 'id': 7759}, {'name': 'BROSTA TV', 'id': 7...   \n",
      "35587  [{'name': 'Odyssey Media', 'id': 17161}, {'name': 'Pulser Productions', 'id': 18012}, {'name': '...   \n",
      "\n",
      "                                                                                      production_countries  \\\n",
      "19730  [{'iso_3166_1': 'CA', 'name': 'Canada'}, {'iso_3166_1': 'LU', 'name': 'Luxembourg'}, {'iso_3166_...   \n",
      "29503    [{'iso_3166_1': 'US', 'name': 'United States of America'}, {'iso_3166_1': 'JP', 'name': 'Japan'}]   \n",
      "35587                                                             [{'iso_3166_1': 'CA', 'name': 'Canada'}]   \n",
      "\n",
      "      release_date revenue runtime                          spoken_languages  \\\n",
      "19730   1997-08-20       0   104.0  [{'iso_639_1': 'en', 'name': 'English'}]   \n",
      "29503   2012-09-29       0    68.0      [{'iso_639_1': 'ja', 'name': '日本語'}]   \n",
      "35587   2014-01-01       0    82.0  [{'iso_639_1': 'en', 'name': 'English'}]   \n",
      "\n",
      "         status                tagline                                title  \\\n",
      "19730  Released                    NaN                         Midnight Man   \n",
      "29503  Released                    NaN  Mardock Scramble: The Third Exhaust   \n",
      "35587  Released  Beware Of Frost Bites                     Avalanche Sharks   \n",
      "\n",
      "       video vote_average vote_count  \n",
      "19730  False          6.0          1  \n",
      "29503  False          7.0         12  \n",
      "35587  False          4.3         22  \n"
     ]
    }
   ],
   "source": [
    "print(df_Movies.loc[[19730,29503,35587]])"
   ]
  },
  {
   "cell_type": "code",
   "execution_count": 15,
   "metadata": {},
   "outputs": [
    {
     "data": {
      "text/html": [
       "<div>\n",
       "<style scoped>\n",
       "    .dataframe tbody tr th:only-of-type {\n",
       "        vertical-align: middle;\n",
       "    }\n",
       "\n",
       "    .dataframe tbody tr th {\n",
       "        vertical-align: top;\n",
       "    }\n",
       "\n",
       "    .dataframe thead th {\n",
       "        text-align: right;\n",
       "    }\n",
       "</style>\n",
       "<table border=\"1\" class=\"dataframe\">\n",
       "  <thead>\n",
       "    <tr style=\"text-align: right;\">\n",
       "      <th></th>\n",
       "      <th>adult</th>\n",
       "      <th>belongs_to_collection</th>\n",
       "      <th>budget</th>\n",
       "      <th>genres</th>\n",
       "      <th>homepage</th>\n",
       "      <th>id</th>\n",
       "      <th>imdb_id</th>\n",
       "      <th>original_language</th>\n",
       "      <th>original_title</th>\n",
       "      <th>overview</th>\n",
       "      <th>popularity</th>\n",
       "      <th>poster_path</th>\n",
       "      <th>production_companies</th>\n",
       "      <th>production_countries</th>\n",
       "      <th>release_date</th>\n",
       "      <th>revenue</th>\n",
       "      <th>runtime</th>\n",
       "      <th>spoken_languages</th>\n",
       "      <th>status</th>\n",
       "      <th>tagline</th>\n",
       "      <th>title</th>\n",
       "      <th>video</th>\n",
       "      <th>vote_average</th>\n",
       "      <th>vote_count</th>\n",
       "    </tr>\n",
       "  </thead>\n",
       "  <tbody>\n",
       "    <tr>\n",
       "      <th>19730</th>\n",
       "      <td></td>\n",
       "      <td></td>\n",
       "      <td></td>\n",
       "      <td></td>\n",
       "      <td></td>\n",
       "      <td></td>\n",
       "      <td></td>\n",
       "      <td></td>\n",
       "      <td></td>\n",
       "      <td>- Written by Ørnås</td>\n",
       "      <td>0.065736</td>\n",
       "      <td>/ff9qCepilowshEtG2GYWwzt2bs4.jpg</td>\n",
       "      <td>[{'name': 'Carousel Productions', 'id': 11176}, {'name': 'Vision View Entertainment', 'id': 1160...</td>\n",
       "      <td>[{'iso_3166_1': 'CA', 'name': 'Canada'}, {'iso_3166_1': 'LU', 'name': 'Luxembourg'}, {'iso_3166_...</td>\n",
       "      <td>1997-08-20</td>\n",
       "      <td>0</td>\n",
       "      <td>104.0</td>\n",
       "      <td>[{'iso_639_1': 'en', 'name': 'English'}]</td>\n",
       "      <td>Released</td>\n",
       "      <td>NaN</td>\n",
       "      <td>Midnight Man</td>\n",
       "      <td>False</td>\n",
       "      <td>6.0</td>\n",
       "      <td>1</td>\n",
       "    </tr>\n",
       "    <tr>\n",
       "      <th>29503</th>\n",
       "      <td></td>\n",
       "      <td></td>\n",
       "      <td></td>\n",
       "      <td></td>\n",
       "      <td></td>\n",
       "      <td></td>\n",
       "      <td></td>\n",
       "      <td></td>\n",
       "      <td></td>\n",
       "      <td>Rune Balot goes to a casino connected to the October corporation to try to wrap up her case onc...</td>\n",
       "      <td>1.931659</td>\n",
       "      <td>/zV8bHuSL6WXoD6FWogP9j4x80bL.jpg</td>\n",
       "      <td>[{'name': 'Aniplex', 'id': 2883}, {'name': 'GoHands', 'id': 7759}, {'name': 'BROSTA TV', 'id': 7...</td>\n",
       "      <td>[{'iso_3166_1': 'US', 'name': 'United States of America'}, {'iso_3166_1': 'JP', 'name': 'Japan'}]</td>\n",
       "      <td>2012-09-29</td>\n",
       "      <td>0</td>\n",
       "      <td>68.0</td>\n",
       "      <td>[{'iso_639_1': 'ja', 'name': '日本語'}]</td>\n",
       "      <td>Released</td>\n",
       "      <td>NaN</td>\n",
       "      <td>Mardock Scramble: The Third Exhaust</td>\n",
       "      <td>False</td>\n",
       "      <td>7.0</td>\n",
       "      <td>12</td>\n",
       "    </tr>\n",
       "    <tr>\n",
       "      <th>35587</th>\n",
       "      <td></td>\n",
       "      <td></td>\n",
       "      <td></td>\n",
       "      <td></td>\n",
       "      <td></td>\n",
       "      <td></td>\n",
       "      <td></td>\n",
       "      <td></td>\n",
       "      <td></td>\n",
       "      <td>Avalanche Sharks tells the story of a bikini contest that turns into a horrifying affair when i...</td>\n",
       "      <td>2.185485</td>\n",
       "      <td>/zaSf5OG7V8X8gqFvly88zDdRm46.jpg</td>\n",
       "      <td>[{'name': 'Odyssey Media', 'id': 17161}, {'name': 'Pulser Productions', 'id': 18012}, {'name': '...</td>\n",
       "      <td>[{'iso_3166_1': 'CA', 'name': 'Canada'}]</td>\n",
       "      <td>2014-01-01</td>\n",
       "      <td>0</td>\n",
       "      <td>82.0</td>\n",
       "      <td>[{'iso_639_1': 'en', 'name': 'English'}]</td>\n",
       "      <td>Released</td>\n",
       "      <td>Beware Of Frost Bites</td>\n",
       "      <td>Avalanche Sharks</td>\n",
       "      <td>False</td>\n",
       "      <td>4.3</td>\n",
       "      <td>22</td>\n",
       "    </tr>\n",
       "  </tbody>\n",
       "</table>\n",
       "</div>"
      ],
      "text/plain": [
       "      adult belongs_to_collection budget genres homepage id imdb_id  \\\n",
       "19730                                                                 \n",
       "29503                                                                 \n",
       "35587                                                                 \n",
       "\n",
       "      original_language original_title  \\\n",
       "19730                                    \n",
       "29503                                    \n",
       "35587                                    \n",
       "\n",
       "                                                                                                  overview  \\\n",
       "19730                                                                                   - Written by Ørnås   \n",
       "29503   Rune Balot goes to a casino connected to the October corporation to try to wrap up her case onc...   \n",
       "35587   Avalanche Sharks tells the story of a bikini contest that turns into a horrifying affair when i...   \n",
       "\n",
       "      popularity                       poster_path  \\\n",
       "19730   0.065736  /ff9qCepilowshEtG2GYWwzt2bs4.jpg   \n",
       "29503   1.931659  /zV8bHuSL6WXoD6FWogP9j4x80bL.jpg   \n",
       "35587   2.185485  /zaSf5OG7V8X8gqFvly88zDdRm46.jpg   \n",
       "\n",
       "                                                                                      production_companies  \\\n",
       "19730  [{'name': 'Carousel Productions', 'id': 11176}, {'name': 'Vision View Entertainment', 'id': 1160...   \n",
       "29503  [{'name': 'Aniplex', 'id': 2883}, {'name': 'GoHands', 'id': 7759}, {'name': 'BROSTA TV', 'id': 7...   \n",
       "35587  [{'name': 'Odyssey Media', 'id': 17161}, {'name': 'Pulser Productions', 'id': 18012}, {'name': '...   \n",
       "\n",
       "                                                                                      production_countries  \\\n",
       "19730  [{'iso_3166_1': 'CA', 'name': 'Canada'}, {'iso_3166_1': 'LU', 'name': 'Luxembourg'}, {'iso_3166_...   \n",
       "29503    [{'iso_3166_1': 'US', 'name': 'United States of America'}, {'iso_3166_1': 'JP', 'name': 'Japan'}]   \n",
       "35587                                                             [{'iso_3166_1': 'CA', 'name': 'Canada'}]   \n",
       "\n",
       "      release_date revenue runtime                          spoken_languages  \\\n",
       "19730   1997-08-20       0   104.0  [{'iso_639_1': 'en', 'name': 'English'}]   \n",
       "29503   2012-09-29       0    68.0      [{'iso_639_1': 'ja', 'name': '日本語'}]   \n",
       "35587   2014-01-01       0    82.0  [{'iso_639_1': 'en', 'name': 'English'}]   \n",
       "\n",
       "         status                tagline                                title  \\\n",
       "19730  Released                    NaN                         Midnight Man   \n",
       "29503  Released                    NaN  Mardock Scramble: The Third Exhaust   \n",
       "35587  Released  Beware Of Frost Bites                     Avalanche Sharks   \n",
       "\n",
       "       video vote_average vote_count  \n",
       "19730  False          6.0          1  \n",
       "29503  False          7.0         12  \n",
       "35587  False          4.3         22  "
      ]
     },
     "execution_count": 15,
     "metadata": {},
     "output_type": "execute_result"
    }
   ],
   "source": [
    "df_Movies.loc[[19730,29503,35587]]"
   ]
  },
  {
   "cell_type": "code",
   "execution_count": 16,
   "metadata": {},
   "outputs": [
    {
     "data": {
      "text/html": [
       "<div>\n",
       "<style scoped>\n",
       "    .dataframe tbody tr th:only-of-type {\n",
       "        vertical-align: middle;\n",
       "    }\n",
       "\n",
       "    .dataframe tbody tr th {\n",
       "        vertical-align: top;\n",
       "    }\n",
       "\n",
       "    .dataframe thead th {\n",
       "        text-align: right;\n",
       "    }\n",
       "</style>\n",
       "<table border=\"1\" class=\"dataframe\">\n",
       "  <thead>\n",
       "    <tr style=\"text-align: right;\">\n",
       "      <th></th>\n",
       "      <th>adult</th>\n",
       "      <th>belongs_to_collection</th>\n",
       "      <th>budget</th>\n",
       "      <th>genres</th>\n",
       "      <th>homepage</th>\n",
       "      <th>id</th>\n",
       "      <th>imdb_id</th>\n",
       "      <th>original_language</th>\n",
       "      <th>original_title</th>\n",
       "      <th>overview</th>\n",
       "      <th>popularity</th>\n",
       "      <th>poster_path</th>\n",
       "      <th>production_companies</th>\n",
       "      <th>production_countries</th>\n",
       "      <th>release_date</th>\n",
       "      <th>revenue</th>\n",
       "      <th>runtime</th>\n",
       "      <th>spoken_languages</th>\n",
       "      <th>status</th>\n",
       "      <th>tagline</th>\n",
       "      <th>title</th>\n",
       "      <th>video</th>\n",
       "      <th>vote_average</th>\n",
       "      <th>vote_count</th>\n",
       "      <th>cast</th>\n",
       "      <th>crew</th>\n",
       "    </tr>\n",
       "  </thead>\n",
       "  <tbody>\n",
       "    <tr>\n",
       "      <th>0</th>\n",
       "      <td>False</td>\n",
       "      <td>{'id': 10194, 'name': 'Toy Story Collection', 'poster_path': '/7G9915LfUQ2lVfwMEEhDsn3kT4B.jpg',...</td>\n",
       "      <td>30000000</td>\n",
       "      <td>[{'id': 16, 'name': 'Animation'}, {'id': 35, 'name': 'Comedy'}, {'id': 10751, 'name': 'Family'}]</td>\n",
       "      <td>http://toystory.disney.com/toy-story</td>\n",
       "      <td>862.0</td>\n",
       "      <td>tt0114709</td>\n",
       "      <td>en</td>\n",
       "      <td>Toy Story</td>\n",
       "      <td>Led by Woody, Andy's toys live happily in his room until Andy's birthday brings Buzz Lightyear o...</td>\n",
       "      <td>21.946943</td>\n",
       "      <td>/rhIRbceoE9lR4veEXuwCC2wARtG.jpg</td>\n",
       "      <td>[{'name': 'Pixar Animation Studios', 'id': 3}]</td>\n",
       "      <td>[{'iso_3166_1': 'US', 'name': 'United States of America'}]</td>\n",
       "      <td>1995-10-30</td>\n",
       "      <td>373554033.0</td>\n",
       "      <td>81.0</td>\n",
       "      <td>[{'iso_639_1': 'en', 'name': 'English'}]</td>\n",
       "      <td>Released</td>\n",
       "      <td>NaN</td>\n",
       "      <td>Toy Story</td>\n",
       "      <td>False</td>\n",
       "      <td>7.7</td>\n",
       "      <td>5415.0</td>\n",
       "      <td>[{'cast_id': 14, 'character': 'Woody (voice)', 'credit_id': '52fe4284c3a36847f8024f95', 'gender'...</td>\n",
       "      <td>[{'credit_id': '52fe4284c3a36847f8024f49', 'department': 'Directing', 'gender': 2, 'id': 7879, '...</td>\n",
       "    </tr>\n",
       "    <tr>\n",
       "      <th>1</th>\n",
       "      <td>False</td>\n",
       "      <td>NaN</td>\n",
       "      <td>65000000</td>\n",
       "      <td>[{'id': 12, 'name': 'Adventure'}, {'id': 14, 'name': 'Fantasy'}, {'id': 10751, 'name': 'Family'}]</td>\n",
       "      <td>NaN</td>\n",
       "      <td>8844.0</td>\n",
       "      <td>tt0113497</td>\n",
       "      <td>en</td>\n",
       "      <td>Jumanji</td>\n",
       "      <td>When siblings Judy and Peter discover an enchanted board game that opens the door to a magical w...</td>\n",
       "      <td>17.015539</td>\n",
       "      <td>/vzmL6fP7aPKNKPRTFnZmiUfciyV.jpg</td>\n",
       "      <td>[{'name': 'TriStar Pictures', 'id': 559}, {'name': 'Teitler Film', 'id': 2550}, {'name': 'Inters...</td>\n",
       "      <td>[{'iso_3166_1': 'US', 'name': 'United States of America'}]</td>\n",
       "      <td>1995-12-15</td>\n",
       "      <td>262797249.0</td>\n",
       "      <td>104.0</td>\n",
       "      <td>[{'iso_639_1': 'en', 'name': 'English'}, {'iso_639_1': 'fr', 'name': 'Français'}]</td>\n",
       "      <td>Released</td>\n",
       "      <td>Roll the dice and unleash the excitement!</td>\n",
       "      <td>Jumanji</td>\n",
       "      <td>False</td>\n",
       "      <td>6.9</td>\n",
       "      <td>2413.0</td>\n",
       "      <td>[{'cast_id': 1, 'character': 'Alan Parrish', 'credit_id': '52fe44bfc3a36847f80a7c73', 'gender': ...</td>\n",
       "      <td>[{'credit_id': '52fe44bfc3a36847f80a7cd1', 'department': 'Production', 'gender': 2, 'id': 511, '...</td>\n",
       "    </tr>\n",
       "  </tbody>\n",
       "</table>\n",
       "</div>"
      ],
      "text/plain": [
       "   adult  \\\n",
       "0  False   \n",
       "1  False   \n",
       "\n",
       "                                                                                 belongs_to_collection  \\\n",
       "0  {'id': 10194, 'name': 'Toy Story Collection', 'poster_path': '/7G9915LfUQ2lVfwMEEhDsn3kT4B.jpg',...   \n",
       "1                                                                                                  NaN   \n",
       "\n",
       "     budget  \\\n",
       "0  30000000   \n",
       "1  65000000   \n",
       "\n",
       "                                                                                              genres  \\\n",
       "0   [{'id': 16, 'name': 'Animation'}, {'id': 35, 'name': 'Comedy'}, {'id': 10751, 'name': 'Family'}]   \n",
       "1  [{'id': 12, 'name': 'Adventure'}, {'id': 14, 'name': 'Fantasy'}, {'id': 10751, 'name': 'Family'}]   \n",
       "\n",
       "                               homepage      id    imdb_id original_language  \\\n",
       "0  http://toystory.disney.com/toy-story   862.0  tt0114709                en   \n",
       "1                                   NaN  8844.0  tt0113497                en   \n",
       "\n",
       "  original_title  \\\n",
       "0      Toy Story   \n",
       "1        Jumanji   \n",
       "\n",
       "                                                                                              overview  \\\n",
       "0  Led by Woody, Andy's toys live happily in his room until Andy's birthday brings Buzz Lightyear o...   \n",
       "1  When siblings Judy and Peter discover an enchanted board game that opens the door to a magical w...   \n",
       "\n",
       "  popularity                       poster_path  \\\n",
       "0  21.946943  /rhIRbceoE9lR4veEXuwCC2wARtG.jpg   \n",
       "1  17.015539  /vzmL6fP7aPKNKPRTFnZmiUfciyV.jpg   \n",
       "\n",
       "                                                                                  production_companies  \\\n",
       "0                                                       [{'name': 'Pixar Animation Studios', 'id': 3}]   \n",
       "1  [{'name': 'TriStar Pictures', 'id': 559}, {'name': 'Teitler Film', 'id': 2550}, {'name': 'Inters...   \n",
       "\n",
       "                                         production_countries release_date  \\\n",
       "0  [{'iso_3166_1': 'US', 'name': 'United States of America'}]   1995-10-30   \n",
       "1  [{'iso_3166_1': 'US', 'name': 'United States of America'}]   1995-12-15   \n",
       "\n",
       "       revenue runtime  \\\n",
       "0  373554033.0    81.0   \n",
       "1  262797249.0   104.0   \n",
       "\n",
       "                                                                    spoken_languages  \\\n",
       "0                                           [{'iso_639_1': 'en', 'name': 'English'}]   \n",
       "1  [{'iso_639_1': 'en', 'name': 'English'}, {'iso_639_1': 'fr', 'name': 'Français'}]   \n",
       "\n",
       "     status                                    tagline      title  video  \\\n",
       "0  Released                                        NaN  Toy Story  False   \n",
       "1  Released  Roll the dice and unleash the excitement!    Jumanji  False   \n",
       "\n",
       "  vote_average vote_count  \\\n",
       "0          7.7     5415.0   \n",
       "1          6.9     2413.0   \n",
       "\n",
       "                                                                                                  cast  \\\n",
       "0  [{'cast_id': 14, 'character': 'Woody (voice)', 'credit_id': '52fe4284c3a36847f8024f95', 'gender'...   \n",
       "1  [{'cast_id': 1, 'character': 'Alan Parrish', 'credit_id': '52fe44bfc3a36847f80a7c73', 'gender': ...   \n",
       "\n",
       "                                                                                                  crew  \n",
       "0  [{'credit_id': '52fe4284c3a36847f8024f49', 'department': 'Directing', 'gender': 2, 'id': 7879, '...  \n",
       "1  [{'credit_id': '52fe44bfc3a36847f80a7cd1', 'department': 'Production', 'gender': 2, 'id': 511, '...  "
      ]
     },
     "execution_count": 16,
     "metadata": {},
     "output_type": "execute_result"
    }
   ],
   "source": [
    "df_Movies['id'] = pd.to_numeric(df_Movies['id'], errors='coerce')\n",
    "df_credits['id'] = pd.to_numeric(df_credits['id'], errors='coerce')\n",
    "df_Movies_credits = pd.merge(df_Movies, df_credits, on='id', how='inner')\n",
    "df_Movies_credits.head(2)"
   ]
  },
  {
   "cell_type": "code",
   "execution_count": 17,
   "metadata": {},
   "outputs": [
    {
     "data": {
      "text/plain": [
       "(45678, 26)"
      ]
     },
     "execution_count": 17,
     "metadata": {},
     "output_type": "execute_result"
    }
   ],
   "source": [
    "df_Movies_credits.shape"
   ]
  },
  {
   "cell_type": "code",
   "execution_count": 18,
   "metadata": {},
   "outputs": [
    {
     "data": {
      "text/plain": [
       "adult                     object\n",
       "belongs_to_collection     object\n",
       "budget                    object\n",
       "genres                    object\n",
       "homepage                  object\n",
       "id                       float64\n",
       "imdb_id                   object\n",
       "original_language         object\n",
       "original_title            object\n",
       "overview                  object\n",
       "popularity                object\n",
       "poster_path               object\n",
       "production_companies      object\n",
       "production_countries      object\n",
       "release_date              object\n",
       "revenue                   object\n",
       "runtime                   object\n",
       "spoken_languages          object\n",
       "status                    object\n",
       "tagline                   object\n",
       "title                     object\n",
       "video                     object\n",
       "vote_average              object\n",
       "vote_count                object\n",
       "cast                      object\n",
       "crew                      object\n",
       "dtype: object"
      ]
     },
     "execution_count": 18,
     "metadata": {},
     "output_type": "execute_result"
    }
   ],
   "source": [
    "df_Movies_credits.dtypes"
   ]
  },
  {
   "cell_type": "code",
   "execution_count": 19,
   "metadata": {},
   "outputs": [
    {
     "data": {
      "text/plain": [
       "<AxesSubplot: >"
      ]
     },
     "execution_count": 19,
     "metadata": {},
     "output_type": "execute_result"
    },
    {
     "data": {
      "image/png": "[encoded data removed]",
      "text/plain": [
       "<Figure size 2500x1000 with 2 Axes>"
      ]
     },
     "metadata": {},
     "output_type": "display_data"
    }
   ],
   "source": [
    "msno.matrix(df_Movies_credits)"
   ]
  },
  {
   "cell_type": "code",
   "execution_count": 20,
   "metadata": {},
   "outputs": [],
   "source": [
    "# Eliminar las columnas no utilizadas\n",
    "columns_to_drop = ['video', 'imdb_id', 'adult', 'original_title', 'poster_path', 'homepage']\n",
    "df_Movies_credits.drop(columns=columns_to_drop, inplace=True)"
   ]
  },
  {
   "cell_type": "code",
   "execution_count": 21,
   "metadata": {},
   "outputs": [
    {
     "data": {
      "text/plain": [
       "belongs_to_collection    41021\n",
       "budget                       0\n",
       "genres                       0\n",
       "id                         168\n",
       "original_language           11\n",
       "overview                   954\n",
       "popularity                   3\n",
       "production_companies         3\n",
       "production_countries         3\n",
       "release_date                87\n",
       "revenue                      3\n",
       "runtime                    260\n",
       "spoken_languages             3\n",
       "status                      84\n",
       "tagline                  25209\n",
       "title                        3\n",
       "vote_average                 3\n",
       "vote_count                   3\n",
       "cast                         3\n",
       "crew                        33\n",
       "dtype: int64"
      ]
     },
     "execution_count": 21,
     "metadata": {},
     "output_type": "execute_result"
    }
   ],
   "source": [
    "counts_valores_nul = df_Movies_credits.isnull().sum()\n",
    "counts_valores_nul"
   ]
  },
  {
   "attachments": {},
   "cell_type": "markdown",
   "metadata": {},
   "source": [
    "## Los valores nulos del campo release date deben eliminarse.\n",
    "\n"
   ]
  },
  {
   "cell_type": "code",
   "execution_count": 22,
   "metadata": {},
   "outputs": [],
   "source": [
    "#Elimina los datos NaN en la columna 'release_date'\n",
    "df_Movies_credits.dropna(subset=['release_date'], inplace=True)"
   ]
  },
  {
   "attachments": {},
   "cell_type": "markdown",
   "metadata": {},
   "source": [
    "## De haber fechas, deberán tener el formato AAAA-mm-dd, además deberán crear la columna release_year donde extraerán el año de la fecha de estreno."
   ]
  },
  {
   "cell_type": "code",
   "execution_count": 23,
   "metadata": {},
   "outputs": [],
   "source": [
    "# Crear la columna \"release_year\" con el año de la fecha de estreno\n",
    "df_Movies_credits['release_year'] = pd.to_datetime(df_Movies_credits['release_date']).dt.year"
   ]
  },
  {
   "attachments": {},
   "cell_type": "markdown",
   "metadata": {},
   "source": [
    "## Crear la columna con el retorno de inversión, llamada return con los campos revenue y budget, dividiendo estas dos últimas revenue / budget, cuando no hay datos disponibles para calcularlo, deberá tomar el valor 0."
   ]
  },
  {
   "cell_type": "code",
   "execution_count": 24,
   "metadata": {},
   "outputs": [],
   "source": [
    "# Convertir los campos \"revenue\" y \"budget\" al tipo numérico\n",
    "df_Movies_credits['revenue'] = pd.to_numeric(df_Movies_credits['revenue'], errors='coerce')\n",
    "df_Movies_credits['budget'] = pd.to_numeric(df_Movies_credits['budget'], errors='coerce')\n",
    "# Crear la columna \"return\" con el cálculo del retorno de inversión\n",
    "df_Movies_credits['return'] = df_Movies_credits.apply(lambda row: row['revenue'] / row['budget'] if pd.notnull(row['revenue']) and pd.notnull(row['budget']) and row['budget'] != 0 else 0, axis=1)\n",
    "df_Movies_credits['return'] = df_Movies_credits['return'].round(2)\n"
   ]
  },
  {
   "attachments": {},
   "cell_type": "markdown",
   "metadata": {},
   "source": [
    "## Los valores nulos de los campos revenue, budget deben ser rellenados por el número 0."
   ]
  },
  {
   "attachments": {},
   "cell_type": "markdown",
   "metadata": {},
   "source": [
    "## ETL "
   ]
  },
  {
   "cell_type": "code",
   "execution_count": 25,
   "metadata": {},
   "outputs": [
    {
     "data": {
      "text/html": [
       "<div>\n",
       "<style scoped>\n",
       "    .dataframe tbody tr th:only-of-type {\n",
       "        vertical-align: middle;\n",
       "    }\n",
       "\n",
       "    .dataframe tbody tr th {\n",
       "        vertical-align: top;\n",
       "    }\n",
       "\n",
       "    .dataframe thead th {\n",
       "        text-align: right;\n",
       "    }\n",
       "</style>\n",
       "<table border=\"1\" class=\"dataframe\">\n",
       "  <thead>\n",
       "    <tr style=\"text-align: right;\">\n",
       "      <th></th>\n",
       "      <th>belongs_to_collection</th>\n",
       "      <th>budget</th>\n",
       "      <th>genres</th>\n",
       "      <th>id</th>\n",
       "      <th>original_language</th>\n",
       "      <th>overview</th>\n",
       "      <th>popularity</th>\n",
       "      <th>production_companies</th>\n",
       "      <th>production_countries</th>\n",
       "      <th>release_date</th>\n",
       "      <th>revenue</th>\n",
       "      <th>runtime</th>\n",
       "      <th>spoken_languages</th>\n",
       "      <th>status</th>\n",
       "      <th>tagline</th>\n",
       "      <th>title</th>\n",
       "      <th>vote_average</th>\n",
       "      <th>vote_count</th>\n",
       "      <th>cast</th>\n",
       "      <th>crew</th>\n",
       "      <th>release_year</th>\n",
       "      <th>return</th>\n",
       "    </tr>\n",
       "  </thead>\n",
       "  <tbody>\n",
       "    <tr>\n",
       "      <th>0</th>\n",
       "      <td>{'id': 10194, 'name': 'Toy Story Collection', 'poster_path': '/7G9915LfUQ2lVfwMEEhDsn3kT4B.jpg',...</td>\n",
       "      <td>30000000</td>\n",
       "      <td>[{'id': 16, 'name': 'Animation'}, {'id': 35, 'name': 'Comedy'}, {'id': 10751, 'name': 'Family'}]</td>\n",
       "      <td>862</td>\n",
       "      <td>en</td>\n",
       "      <td>Led by Woody, Andy's toys live happily in his room until Andy's birthday brings Buzz Lightyear o...</td>\n",
       "      <td>21.95</td>\n",
       "      <td>[{'name': 'Pixar Animation Studios', 'id': 3}]</td>\n",
       "      <td>[{'iso_3166_1': 'US', 'name': 'United States of America'}]</td>\n",
       "      <td>1995-10-30</td>\n",
       "      <td>373554033</td>\n",
       "      <td>81</td>\n",
       "      <td>[{'iso_639_1': 'en', 'name': 'English'}]</td>\n",
       "      <td>Released</td>\n",
       "      <td>[{Sin Datos}]</td>\n",
       "      <td>Toy Story</td>\n",
       "      <td>7.7</td>\n",
       "      <td>5415</td>\n",
       "      <td>[{'cast_id': 14, 'character': 'Woody (voice)', 'credit_id': '52fe4284c3a36847f8024f95', 'gender'...</td>\n",
       "      <td>[{'credit_id': '52fe4284c3a36847f8024f49', 'department': 'Directing', 'gender': 2, 'id': 7879, '...</td>\n",
       "      <td>1995</td>\n",
       "      <td>12.45</td>\n",
       "    </tr>\n",
       "    <tr>\n",
       "      <th>1</th>\n",
       "      <td>[{Sin Datos}]</td>\n",
       "      <td>65000000</td>\n",
       "      <td>[{'id': 12, 'name': 'Adventure'}, {'id': 14, 'name': 'Fantasy'}, {'id': 10751, 'name': 'Family'}]</td>\n",
       "      <td>8844</td>\n",
       "      <td>en</td>\n",
       "      <td>When siblings Judy and Peter discover an enchanted board game that opens the door to a magical w...</td>\n",
       "      <td>17.02</td>\n",
       "      <td>[{'name': 'TriStar Pictures', 'id': 559}, {'name': 'Teitler Film', 'id': 2550}, {'name': 'Inters...</td>\n",
       "      <td>[{'iso_3166_1': 'US', 'name': 'United States of America'}]</td>\n",
       "      <td>1995-12-15</td>\n",
       "      <td>262797249</td>\n",
       "      <td>104</td>\n",
       "      <td>[{'iso_639_1': 'en', 'name': 'English'}, {'iso_639_1': 'fr', 'name': 'Français'}]</td>\n",
       "      <td>Released</td>\n",
       "      <td>Roll the dice and unleash the excitement!</td>\n",
       "      <td>Jumanji</td>\n",
       "      <td>6.9</td>\n",
       "      <td>2413</td>\n",
       "      <td>[{'cast_id': 1, 'character': 'Alan Parrish', 'credit_id': '52fe44bfc3a36847f80a7c73', 'gender': ...</td>\n",
       "      <td>[{'credit_id': '52fe44bfc3a36847f80a7cd1', 'department': 'Production', 'gender': 2, 'id': 511, '...</td>\n",
       "      <td>1995</td>\n",
       "      <td>4.04</td>\n",
       "    </tr>\n",
       "  </tbody>\n",
       "</table>\n",
       "</div>"
      ],
      "text/plain": [
       "                                                                                 belongs_to_collection  \\\n",
       "0  {'id': 10194, 'name': 'Toy Story Collection', 'poster_path': '/7G9915LfUQ2lVfwMEEhDsn3kT4B.jpg',...   \n",
       "1                                                                                        [{Sin Datos}]   \n",
       "\n",
       "     budget  \\\n",
       "0  30000000   \n",
       "1  65000000   \n",
       "\n",
       "                                                                                              genres  \\\n",
       "0   [{'id': 16, 'name': 'Animation'}, {'id': 35, 'name': 'Comedy'}, {'id': 10751, 'name': 'Family'}]   \n",
       "1  [{'id': 12, 'name': 'Adventure'}, {'id': 14, 'name': 'Fantasy'}, {'id': 10751, 'name': 'Family'}]   \n",
       "\n",
       "     id original_language  \\\n",
       "0   862                en   \n",
       "1  8844                en   \n",
       "\n",
       "                                                                                              overview  \\\n",
       "0  Led by Woody, Andy's toys live happily in his room until Andy's birthday brings Buzz Lightyear o...   \n",
       "1  When siblings Judy and Peter discover an enchanted board game that opens the door to a magical w...   \n",
       "\n",
       "   popularity  \\\n",
       "0       21.95   \n",
       "1       17.02   \n",
       "\n",
       "                                                                                  production_companies  \\\n",
       "0                                                       [{'name': 'Pixar Animation Studios', 'id': 3}]   \n",
       "1  [{'name': 'TriStar Pictures', 'id': 559}, {'name': 'Teitler Film', 'id': 2550}, {'name': 'Inters...   \n",
       "\n",
       "                                         production_countries release_date  \\\n",
       "0  [{'iso_3166_1': 'US', 'name': 'United States of America'}]   1995-10-30   \n",
       "1  [{'iso_3166_1': 'US', 'name': 'United States of America'}]   1995-12-15   \n",
       "\n",
       "     revenue runtime  \\\n",
       "0  373554033      81   \n",
       "1  262797249     104   \n",
       "\n",
       "                                                                    spoken_languages  \\\n",
       "0                                           [{'iso_639_1': 'en', 'name': 'English'}]   \n",
       "1  [{'iso_639_1': 'en', 'name': 'English'}, {'iso_639_1': 'fr', 'name': 'Français'}]   \n",
       "\n",
       "     status                                    tagline      title  \\\n",
       "0  Released                              [{Sin Datos}]  Toy Story   \n",
       "1  Released  Roll the dice and unleash the excitement!    Jumanji   \n",
       "\n",
       "  vote_average vote_count  \\\n",
       "0          7.7       5415   \n",
       "1          6.9       2413   \n",
       "\n",
       "                                                                                                  cast  \\\n",
       "0  [{'cast_id': 14, 'character': 'Woody (voice)', 'credit_id': '52fe4284c3a36847f8024f95', 'gender'...   \n",
       "1  [{'cast_id': 1, 'character': 'Alan Parrish', 'credit_id': '52fe44bfc3a36847f80a7c73', 'gender': ...   \n",
       "\n",
       "                                                                                                  crew  \\\n",
       "0  [{'credit_id': '52fe4284c3a36847f8024f49', 'department': 'Directing', 'gender': 2, 'id': 7879, '...   \n",
       "1  [{'credit_id': '52fe44bfc3a36847f80a7cd1', 'department': 'Production', 'gender': 2, 'id': 511, '...   \n",
       "\n",
       "   release_year  return  \n",
       "0          1995   12.45  \n",
       "1          1995    4.04  "
      ]
     },
     "execution_count": 25,
     "metadata": {},
     "output_type": "execute_result"
    }
   ],
   "source": [
    "# Definir la lista de imputados\n",
    "lista_imputados = [{'Sin Datos'}]\n",
    "\n",
    "# Llenar los valores faltantes en columnas numéricas con 0\n",
    "df_Movies_credits['revenue'].fillna(0, inplace=True)\n",
    "df_Movies_credits['budget'].fillna(0, inplace=True)\n",
    "df_Movies_credits['runtime'].fillna(0, inplace=True)\n",
    "\n",
    "# Llenar los valores faltantes en las siguientes columnas con la lista de imputados\n",
    "df_Movies_credits['release_date'] = df_Movies_credits['release_date'].fillna(method='ffill')\n",
    "df_Movies_credits['belongs_to_collection'] = df_Movies_credits['belongs_to_collection'].apply(lambda x: lista_imputados if pd.isnull(x) else x)\n",
    "df_Movies_credits['status'] = df_Movies_credits['status'].apply(lambda x: lista_imputados if pd.isnull(x) else x)\n",
    "df_Movies_credits['overview'] = df_Movies_credits['overview'].apply(lambda x: lista_imputados if pd.isnull(x) else x)\n",
    "df_Movies_credits['tagline'] = df_Movies_credits['tagline'].apply(lambda x: lista_imputados if pd.isnull(x) else x)\n",
    "df_Movies_credits['original_language'] = df_Movies_credits['original_language'].apply(lambda x: lista_imputados if pd.isnull(x) else x)\n",
    "\n",
    "# Convertir las columnas a cadenas de texto para eliminar el \".0\" al final de los valores enteros\n",
    "df_Movies_credits['id'] = df_Movies_credits['id'].astype(str).str.rstrip('.0')\n",
    "df_Movies_credits['budget'] = df_Movies_credits['budget'].astype(str).apply(lambda x: x.split(\".\")[0])\n",
    "df_Movies_credits['revenue'] = df_Movies_credits['revenue'].astype(str).apply(lambda x: x.split(\".\")[0])\n",
    "\n",
    "# Eliminar el \".0\" al final de los valores enteros en las columnas 'runtime' y 'vote_count'\n",
    "df_Movies_credits['runtime'] = df_Movies_credits['runtime'].replace('', 0).astype(float).astype(int).astype(str)\n",
    "df_Movies_credits['vote_count'] = df_Movies_credits['vote_count'].replace('', 0).astype(float).astype(int).astype(str)\n",
    "\n",
    "# Convertir la columna \"popularity\" a tipo numérico (float) antes de redondearla\n",
    "df_Movies_credits['popularity'] = df_Movies_credits['popularity'].astype(float).apply(lambda x: round(x, 2) if not pd.isnull(x) else x)\n",
    "\n",
    "# Imprimir el DataFrame resultante\n",
    "df_Movies_credits.head(2)\n"
   ]
  },
  {
   "cell_type": "code",
   "execution_count": 26,
   "metadata": {},
   "outputs": [
    {
     "data": {
      "text/plain": [
       "belongs_to_collection     0\n",
       "budget                    0\n",
       "genres                    0\n",
       "id                        0\n",
       "original_language         0\n",
       "overview                  0\n",
       "popularity                0\n",
       "production_companies      0\n",
       "production_countries      0\n",
       "release_date              0\n",
       "revenue                   0\n",
       "runtime                   0\n",
       "spoken_languages          0\n",
       "status                    0\n",
       "tagline                   0\n",
       "title                     0\n",
       "vote_average              0\n",
       "vote_count                0\n",
       "cast                      3\n",
       "crew                     33\n",
       "release_year              0\n",
       "return                    0\n",
       "dtype: int64"
      ]
     },
     "execution_count": 26,
     "metadata": {},
     "output_type": "execute_result"
    }
   ],
   "source": [
    "valores_nul = df_Movies_credits.isnull().sum()\n",
    "valores_nul"
   ]
  },
  {
   "cell_type": "code",
   "execution_count": 27,
   "metadata": {},
   "outputs": [
    {
     "data": {
      "text/plain": [
       "<AxesSubplot: >"
      ]
     },
     "execution_count": 27,
     "metadata": {},
     "output_type": "execute_result"
    },
    {
     "data": {
      "image/png": "[encoded data removed]",
      "text/plain": [
       "<Figure size 2500x1000 with 2 Axes>"
      ]
     },
     "metadata": {},
     "output_type": "display_data"
    }
   ],
   "source": [
    "msno.matrix(df_Movies_credits)"
   ]
  },
  {
   "cell_type": "code",
   "execution_count": 28,
   "metadata": {},
   "outputs": [
    {
     "data": {
      "text/plain": [
       "(45466, 24)"
      ]
     },
     "execution_count": 28,
     "metadata": {},
     "output_type": "execute_result"
    }
   ],
   "source": [
    "df_Movies.shape"
   ]
  },
  {
   "cell_type": "code",
   "execution_count": 29,
   "metadata": {},
   "outputs": [
    {
     "data": {
      "text/html": [
       "<div>\n",
       "<style scoped>\n",
       "    .dataframe tbody tr th:only-of-type {\n",
       "        vertical-align: middle;\n",
       "    }\n",
       "\n",
       "    .dataframe tbody tr th {\n",
       "        vertical-align: top;\n",
       "    }\n",
       "\n",
       "    .dataframe thead th {\n",
       "        text-align: right;\n",
       "    }\n",
       "</style>\n",
       "<table border=\"1\" class=\"dataframe\">\n",
       "  <thead>\n",
       "    <tr style=\"text-align: right;\">\n",
       "      <th></th>\n",
       "      <th>belongs_to_collection</th>\n",
       "      <th>budget</th>\n",
       "      <th>genres</th>\n",
       "      <th>id</th>\n",
       "      <th>original_language</th>\n",
       "      <th>overview</th>\n",
       "      <th>popularity</th>\n",
       "      <th>production_companies</th>\n",
       "      <th>production_countries</th>\n",
       "      <th>release_date</th>\n",
       "      <th>revenue</th>\n",
       "      <th>runtime</th>\n",
       "      <th>spoken_languages</th>\n",
       "      <th>status</th>\n",
       "      <th>tagline</th>\n",
       "      <th>title</th>\n",
       "      <th>vote_average</th>\n",
       "      <th>vote_count</th>\n",
       "      <th>cast</th>\n",
       "      <th>crew</th>\n",
       "      <th>release_year</th>\n",
       "      <th>return</th>\n",
       "    </tr>\n",
       "  </thead>\n",
       "  <tbody>\n",
       "    <tr>\n",
       "      <th>0</th>\n",
       "      <td>{'id': 10194, 'name': 'Toy Story Collection', 'poster_path': '/7G9915LfUQ2lVfwMEEhDsn3kT4B.jpg',...</td>\n",
       "      <td>30000000</td>\n",
       "      <td>[{'id': 16, 'name': 'Animation'}, {'id': 35, 'name': 'Comedy'}, {'id': 10751, 'name': 'Family'}]</td>\n",
       "      <td>862</td>\n",
       "      <td>en</td>\n",
       "      <td>Led by Woody, Andy's toys live happily in his room until Andy's birthday brings Buzz Lightyear o...</td>\n",
       "      <td>21.95</td>\n",
       "      <td>[{'name': 'Pixar Animation Studios', 'id': 3}]</td>\n",
       "      <td>[{'iso_3166_1': 'US', 'name': 'United States of America'}]</td>\n",
       "      <td>1995-10-30</td>\n",
       "      <td>373554033</td>\n",
       "      <td>81</td>\n",
       "      <td>[{'iso_639_1': 'en', 'name': 'English'}]</td>\n",
       "      <td>Released</td>\n",
       "      <td>[{Sin Datos}]</td>\n",
       "      <td>Toy Story</td>\n",
       "      <td>7.7</td>\n",
       "      <td>5415</td>\n",
       "      <td>[{'cast_id': 14, 'character': 'Woody (voice)', 'credit_id': '52fe4284c3a36847f8024f95', 'gender'...</td>\n",
       "      <td>[{'credit_id': '52fe4284c3a36847f8024f49', 'department': 'Directing', 'gender': 2, 'id': 7879, '...</td>\n",
       "      <td>1995</td>\n",
       "      <td>12.45</td>\n",
       "    </tr>\n",
       "  </tbody>\n",
       "</table>\n",
       "</div>"
      ],
      "text/plain": [
       "                                                                                 belongs_to_collection  \\\n",
       "0  {'id': 10194, 'name': 'Toy Story Collection', 'poster_path': '/7G9915LfUQ2lVfwMEEhDsn3kT4B.jpg',...   \n",
       "\n",
       "     budget  \\\n",
       "0  30000000   \n",
       "\n",
       "                                                                                             genres  \\\n",
       "0  [{'id': 16, 'name': 'Animation'}, {'id': 35, 'name': 'Comedy'}, {'id': 10751, 'name': 'Family'}]   \n",
       "\n",
       "    id original_language  \\\n",
       "0  862                en   \n",
       "\n",
       "                                                                                              overview  \\\n",
       "0  Led by Woody, Andy's toys live happily in his room until Andy's birthday brings Buzz Lightyear o...   \n",
       "\n",
       "   popularity                            production_companies  \\\n",
       "0       21.95  [{'name': 'Pixar Animation Studios', 'id': 3}]   \n",
       "\n",
       "                                         production_countries release_date  \\\n",
       "0  [{'iso_3166_1': 'US', 'name': 'United States of America'}]   1995-10-30   \n",
       "\n",
       "     revenue runtime                          spoken_languages    status  \\\n",
       "0  373554033      81  [{'iso_639_1': 'en', 'name': 'English'}]  Released   \n",
       "\n",
       "         tagline      title vote_average vote_count  \\\n",
       "0  [{Sin Datos}]  Toy Story          7.7       5415   \n",
       "\n",
       "                                                                                                  cast  \\\n",
       "0  [{'cast_id': 14, 'character': 'Woody (voice)', 'credit_id': '52fe4284c3a36847f8024f95', 'gender'...   \n",
       "\n",
       "                                                                                                  crew  \\\n",
       "0  [{'credit_id': '52fe4284c3a36847f8024f49', 'department': 'Directing', 'gender': 2, 'id': 7879, '...   \n",
       "\n",
       "   release_year  return  \n",
       "0          1995   12.45  "
      ]
     },
     "execution_count": 29,
     "metadata": {},
     "output_type": "execute_result"
    }
   ],
   "source": [
    "df_Movies_credits.head(1)"
   ]
  },
  {
   "cell_type": "code",
   "execution_count": 30,
   "metadata": {},
   "outputs": [
    {
     "data": {
      "text/html": [
       "<div>\n",
       "<style scoped>\n",
       "    .dataframe tbody tr th:only-of-type {\n",
       "        vertical-align: middle;\n",
       "    }\n",
       "\n",
       "    .dataframe tbody tr th {\n",
       "        vertical-align: top;\n",
       "    }\n",
       "\n",
       "    .dataframe thead th {\n",
       "        text-align: right;\n",
       "    }\n",
       "</style>\n",
       "<table border=\"1\" class=\"dataframe\">\n",
       "  <thead>\n",
       "    <tr style=\"text-align: right;\">\n",
       "      <th></th>\n",
       "      <th>belongs_to_collection</th>\n",
       "      <th>budget</th>\n",
       "      <th>genres</th>\n",
       "      <th>id</th>\n",
       "      <th>original_language</th>\n",
       "      <th>overview</th>\n",
       "      <th>popularity</th>\n",
       "      <th>production_companies</th>\n",
       "      <th>production_countries</th>\n",
       "      <th>release_date</th>\n",
       "      <th>revenue</th>\n",
       "      <th>runtime</th>\n",
       "      <th>spoken_languages</th>\n",
       "      <th>status</th>\n",
       "      <th>tagline</th>\n",
       "      <th>title</th>\n",
       "      <th>vote_average</th>\n",
       "      <th>vote_count</th>\n",
       "      <th>cast</th>\n",
       "      <th>crew</th>\n",
       "      <th>release_year</th>\n",
       "      <th>return</th>\n",
       "      <th>mes</th>\n",
       "      <th>dia</th>\n",
       "    </tr>\n",
       "  </thead>\n",
       "  <tbody>\n",
       "    <tr>\n",
       "      <th>0</th>\n",
       "      <td>{'id': 10194, 'name': 'Toy Story Collection', 'poster_path': '/7G9915LfUQ2lVfwMEEhDsn3kT4B.jpg',...</td>\n",
       "      <td>30000000</td>\n",
       "      <td>[{'id': 16, 'name': 'Animation'}, {'id': 35, 'name': 'Comedy'}, {'id': 10751, 'name': 'Family'}]</td>\n",
       "      <td>862</td>\n",
       "      <td>en</td>\n",
       "      <td>Led by Woody, Andy's toys live happily in his room until Andy's birthday brings Buzz Lightyear o...</td>\n",
       "      <td>21.95</td>\n",
       "      <td>[{'name': 'Pixar Animation Studios', 'id': 3}]</td>\n",
       "      <td>[{'iso_3166_1': 'US', 'name': 'United States of America'}]</td>\n",
       "      <td>1995-10-30</td>\n",
       "      <td>373554033</td>\n",
       "      <td>81</td>\n",
       "      <td>[{'iso_639_1': 'en', 'name': 'English'}]</td>\n",
       "      <td>Released</td>\n",
       "      <td>[{Sin Datos}]</td>\n",
       "      <td>Toy Story</td>\n",
       "      <td>7.7</td>\n",
       "      <td>5415</td>\n",
       "      <td>[{'cast_id': 14, 'character': 'Woody (voice)', 'credit_id': '52fe4284c3a36847f8024f95', 'gender'...</td>\n",
       "      <td>[{'credit_id': '52fe4284c3a36847f8024f49', 'department': 'Directing', 'gender': 2, 'id': 7879, '...</td>\n",
       "      <td>1995</td>\n",
       "      <td>12.45</td>\n",
       "      <td>octubre</td>\n",
       "      <td>lunes</td>\n",
       "    </tr>\n",
       "    <tr>\n",
       "      <th>1</th>\n",
       "      <td>[{Sin Datos}]</td>\n",
       "      <td>65000000</td>\n",
       "      <td>[{'id': 12, 'name': 'Adventure'}, {'id': 14, 'name': 'Fantasy'}, {'id': 10751, 'name': 'Family'}]</td>\n",
       "      <td>8844</td>\n",
       "      <td>en</td>\n",
       "      <td>When siblings Judy and Peter discover an enchanted board game that opens the door to a magical w...</td>\n",
       "      <td>17.02</td>\n",
       "      <td>[{'name': 'TriStar Pictures', 'id': 559}, {'name': 'Teitler Film', 'id': 2550}, {'name': 'Inters...</td>\n",
       "      <td>[{'iso_3166_1': 'US', 'name': 'United States of America'}]</td>\n",
       "      <td>1995-12-15</td>\n",
       "      <td>262797249</td>\n",
       "      <td>104</td>\n",
       "      <td>[{'iso_639_1': 'en', 'name': 'English'}, {'iso_639_1': 'fr', 'name': 'Français'}]</td>\n",
       "      <td>Released</td>\n",
       "      <td>Roll the dice and unleash the excitement!</td>\n",
       "      <td>Jumanji</td>\n",
       "      <td>6.9</td>\n",
       "      <td>2413</td>\n",
       "      <td>[{'cast_id': 1, 'character': 'Alan Parrish', 'credit_id': '52fe44bfc3a36847f80a7c73', 'gender': ...</td>\n",
       "      <td>[{'credit_id': '52fe44bfc3a36847f80a7cd1', 'department': 'Production', 'gender': 2, 'id': 511, '...</td>\n",
       "      <td>1995</td>\n",
       "      <td>4.04</td>\n",
       "      <td>diciembre</td>\n",
       "      <td>viernes</td>\n",
       "    </tr>\n",
       "  </tbody>\n",
       "</table>\n",
       "</div>"
      ],
      "text/plain": [
       "                                                                                 belongs_to_collection  \\\n",
       "0  {'id': 10194, 'name': 'Toy Story Collection', 'poster_path': '/7G9915LfUQ2lVfwMEEhDsn3kT4B.jpg',...   \n",
       "1                                                                                        [{Sin Datos}]   \n",
       "\n",
       "     budget  \\\n",
       "0  30000000   \n",
       "1  65000000   \n",
       "\n",
       "                                                                                              genres  \\\n",
       "0   [{'id': 16, 'name': 'Animation'}, {'id': 35, 'name': 'Comedy'}, {'id': 10751, 'name': 'Family'}]   \n",
       "1  [{'id': 12, 'name': 'Adventure'}, {'id': 14, 'name': 'Fantasy'}, {'id': 10751, 'name': 'Family'}]   \n",
       "\n",
       "     id original_language  \\\n",
       "0   862                en   \n",
       "1  8844                en   \n",
       "\n",
       "                                                                                              overview  \\\n",
       "0  Led by Woody, Andy's toys live happily in his room until Andy's birthday brings Buzz Lightyear o...   \n",
       "1  When siblings Judy and Peter discover an enchanted board game that opens the door to a magical w...   \n",
       "\n",
       "   popularity  \\\n",
       "0       21.95   \n",
       "1       17.02   \n",
       "\n",
       "                                                                                  production_companies  \\\n",
       "0                                                       [{'name': 'Pixar Animation Studios', 'id': 3}]   \n",
       "1  [{'name': 'TriStar Pictures', 'id': 559}, {'name': 'Teitler Film', 'id': 2550}, {'name': 'Inters...   \n",
       "\n",
       "                                         production_countries release_date  \\\n",
       "0  [{'iso_3166_1': 'US', 'name': 'United States of America'}]   1995-10-30   \n",
       "1  [{'iso_3166_1': 'US', 'name': 'United States of America'}]   1995-12-15   \n",
       "\n",
       "     revenue runtime  \\\n",
       "0  373554033      81   \n",
       "1  262797249     104   \n",
       "\n",
       "                                                                    spoken_languages  \\\n",
       "0                                           [{'iso_639_1': 'en', 'name': 'English'}]   \n",
       "1  [{'iso_639_1': 'en', 'name': 'English'}, {'iso_639_1': 'fr', 'name': 'Français'}]   \n",
       "\n",
       "     status                                    tagline      title  \\\n",
       "0  Released                              [{Sin Datos}]  Toy Story   \n",
       "1  Released  Roll the dice and unleash the excitement!    Jumanji   \n",
       "\n",
       "  vote_average vote_count  \\\n",
       "0          7.7       5415   \n",
       "1          6.9       2413   \n",
       "\n",
       "                                                                                                  cast  \\\n",
       "0  [{'cast_id': 14, 'character': 'Woody (voice)', 'credit_id': '52fe4284c3a36847f8024f95', 'gender'...   \n",
       "1  [{'cast_id': 1, 'character': 'Alan Parrish', 'credit_id': '52fe44bfc3a36847f80a7c73', 'gender': ...   \n",
       "\n",
       "                                                                                                  crew  \\\n",
       "0  [{'credit_id': '52fe4284c3a36847f8024f49', 'department': 'Directing', 'gender': 2, 'id': 7879, '...   \n",
       "1  [{'credit_id': '52fe44bfc3a36847f80a7cd1', 'department': 'Production', 'gender': 2, 'id': 511, '...   \n",
       "\n",
       "   release_year  return        mes      dia  \n",
       "0          1995   12.45    octubre    lunes  \n",
       "1          1995    4.04  diciembre  viernes  "
      ]
     },
     "execution_count": 30,
     "metadata": {},
     "output_type": "execute_result"
    }
   ],
   "source": [
    "def obtener_nombre_mes(mes):\n",
    "    nombres_meses = ['enero', 'febrero', 'marzo', 'abril', 'mayo', 'junio',\n",
    "                     'julio', 'agosto', 'septiembre', 'octubre', 'noviembre', 'diciembre']\n",
    "    return nombres_meses[mes - 1]\n",
    "\n",
    "def obtener_nombre_dia(dia):\n",
    "    nombres_dias = ['lunes', 'martes', 'miércoles', 'jueves', 'viernes', 'sábado', 'domingo']\n",
    "    return nombres_dias[dia]\n",
    "\n",
    "def procesar_dataframe(df_Movies_credits):\n",
    "    df_Movies_credits['release_date'] = pd.to_datetime(df_Movies_credits['release_date'])\n",
    "    df_Movies_credits['mes'] = df_Movies_credits['release_date'].dt.month.map(obtener_nombre_mes)\n",
    "    df_Movies_credits['dia'] = df_Movies_credits['release_date'].dt.dayofweek.map(obtener_nombre_dia)\n",
    "\n",
    "procesar_dataframe(df_Movies_credits)\n",
    "df_Movies_credits.head(2)"
   ]
  },
  {
   "cell_type": "code",
   "execution_count": 31,
   "metadata": {},
   "outputs": [],
   "source": [
    "#columnas_borrar = ['original_language','overview', 'production_countries','spoken_languages', 'tagline' ]\n",
    "\n",
    "#df_Movies_credits = df_Movies_credits.drop(columnas_borrar, axis=1)\n",
    "\n",
    "#n_filas_a_eliminar = 5000  \n",
    "\n",
    "# Utiliza el método \"drop\" para eliminar las últimas n filas\n",
    "#df_Movies_credits = df_Movies_credits.drop(df_Movies_credits.tail(n_filas_a_eliminar).index)"
   ]
  },
  {
   "cell_type": "code",
   "execution_count": 32,
   "metadata": {},
   "outputs": [],
   "source": [
    "df_Movies_credits.to_csv('DATA/df_fechafinal.csv', index=False)"
   ]
  },
  {
   "cell_type": "code",
   "execution_count": 33,
   "metadata": {},
   "outputs": [
    {
     "data": {
      "text/plain": [
       "(45591, 24)"
      ]
     },
     "execution_count": 33,
     "metadata": {},
     "output_type": "execute_result"
    }
   ],
   "source": [
    "df_Movies_credits.shape\n"
   ]
  },
  {
   "cell_type": "code",
   "execution_count": 34,
   "metadata": {},
   "outputs": [],
   "source": [
    "#Creamos las funciones necesarias para desanidar los datos anidados\n",
    "\n",
    "def desanidar_columnas(dataframe, columnas):\n",
    "    desanidados = {}\n",
    "    for columna in columnas:\n",
    "        nueva_columna = columna + \"_desanidada\"\n",
    "        desanidados[nueva_columna] = []\n",
    "        for valor in dataframe[columna]:\n",
    "            desanidados[nueva_columna].append(desanidar_valor(valor))\n",
    "    return desanidados\n",
    "\n",
    "\n",
    "def desanidar_valor(valor):\n",
    "    if isinstance(valor, dict):\n",
    "        return desanidar_diccionario(valor)\n",
    "    elif isinstance(valor, list):\n",
    "        return desanidar_lista(valor)\n",
    "    else:\n",
    "        return valor\n",
    "\n",
    "def desanidar_diccionario(diccionario):\n",
    "    desanidado = {}\n",
    "    for clave, valor in diccionario.items():\n",
    "        if isinstance(valor, dict):\n",
    "            desanidado[clave] = desanidar_diccionario(valor)\n",
    "        elif isinstance(valor, list):\n",
    "            desanidado[clave] = desanidar_lista(valor)\n",
    "        else:\n",
    "            desanidado[clave] = valor\n",
    "    return desanidado\n",
    "\n",
    "def desanidar_lista(lista):\n",
    "    desanidado = []\n",
    "    for elemento in lista:\n",
    "        if isinstance(elemento, dict):\n",
    "            desanidado.append(desanidar_diccionario(elemento))\n",
    "        elif isinstance(elemento, list):\n",
    "            desanidado.append(desanidar_lista(elemento))\n",
    "        else:\n",
    "            desanidado.append(elemento)\n",
    "    return desanidado\n",
    "\n",
    "#Creamos una función para agregar las columnas desanidadas\n",
    "\n",
    "def agregar_columnas_desanidadas(df, columnas_anidadas):\n",
    "    # Creamos una copia del DataFrame original\n",
    "    df_modificado = df.copy()\n",
    "\n",
    "    # Recorremos las columnas desanidadas y agregamos una a la vez al DataFrame copiado 'df_modificado'\n",
    "    for columna in columnas_anidadas:\n",
    "        valores = df_modificado[columna]\n",
    "        df_modificado[columna + \"_desanidada\"] = pd.Series(valores)\n",
    "\n",
    "    # Devolver el DataFrame modificado\n",
    "    return df_modificado\n",
    "\n",
    "def eliminar_columnas(dataframe, columnas):\n",
    "    dataframe.drop(columns=columnas, inplace=True)\n",
    "    return dataframe\n",
    "\n",
    "\n",
    "#Creamos una función para transformar los datos y quitar el .0 de los valores de las columnas\n",
    "def formatear_columnas(dataframe, *columnas):\n",
    "    for columna in columnas:\n",
    "        dataframe[columna] = dataframe[columna].fillna(0).astype(float).astype(int).astype(str)\n",
    "        dataframe[columna] = dataframe[columna].str.replace('.0', '')\n",
    "    return dataframe"
   ]
  },
  {
   "cell_type": "code",
   "execution_count": 35,
   "metadata": {},
   "outputs": [
    {
     "data": {
      "text/html": [
       "<div>\n",
       "<style scoped>\n",
       "    .dataframe tbody tr th:only-of-type {\n",
       "        vertical-align: middle;\n",
       "    }\n",
       "\n",
       "    .dataframe tbody tr th {\n",
       "        vertical-align: top;\n",
       "    }\n",
       "\n",
       "    .dataframe thead th {\n",
       "        text-align: right;\n",
       "    }\n",
       "</style>\n",
       "<table border=\"1\" class=\"dataframe\">\n",
       "  <thead>\n",
       "    <tr style=\"text-align: right;\">\n",
       "      <th></th>\n",
       "      <th>crews_id</th>\n",
       "      <th>crews_department</th>\n",
       "      <th>crews_gender</th>\n",
       "      <th>crews_id_M</th>\n",
       "      <th>crews_job</th>\n",
       "      <th>crews_name</th>\n",
       "      <th>crews_profile_path</th>\n",
       "    </tr>\n",
       "  </thead>\n",
       "  <tbody>\n",
       "    <tr>\n",
       "      <th>0</th>\n",
       "      <td>52fe4284c3a36847f8024f49</td>\n",
       "      <td>Directing</td>\n",
       "      <td>2</td>\n",
       "      <td>7879</td>\n",
       "      <td>Director</td>\n",
       "      <td>John Lasseter</td>\n",
       "      <td>/7EdqiNbr4FRjIhKHyPPdFfEEEFG.jpg</td>\n",
       "    </tr>\n",
       "    <tr>\n",
       "      <th>1</th>\n",
       "      <td>52fe4284c3a36847f8024f4f</td>\n",
       "      <td>Writing</td>\n",
       "      <td>2</td>\n",
       "      <td>12891</td>\n",
       "      <td>Screenplay</td>\n",
       "      <td>Joss Whedon</td>\n",
       "      <td>/dTiVsuaTVTeGmvkhcyJvKp2A5kr.jpg</td>\n",
       "    </tr>\n",
       "    <tr>\n",
       "      <th>2</th>\n",
       "      <td>52fe4284c3a36847f8024f55</td>\n",
       "      <td>Writing</td>\n",
       "      <td>2</td>\n",
       "      <td>7</td>\n",
       "      <td>Screenplay</td>\n",
       "      <td>Andrew Stanton</td>\n",
       "      <td>/pvQWsu0qc8JFQhMVJkTHuexUAa1.jpg</td>\n",
       "    </tr>\n",
       "    <tr>\n",
       "      <th>3</th>\n",
       "      <td>52fe4284c3a36847f8024f5b</td>\n",
       "      <td>Writing</td>\n",
       "      <td>2</td>\n",
       "      <td>12892</td>\n",
       "      <td>Screenplay</td>\n",
       "      <td>Joel Cohen</td>\n",
       "      <td>/dAubAiZcvKFbboWlj7oXOkZnTSu.jpg</td>\n",
       "    </tr>\n",
       "    <tr>\n",
       "      <th>4</th>\n",
       "      <td>52fe4284c3a36847f8024f61</td>\n",
       "      <td>Writing</td>\n",
       "      <td>0</td>\n",
       "      <td>12893</td>\n",
       "      <td>Screenplay</td>\n",
       "      <td>Alec Sokolow</td>\n",
       "      <td>/v79vlRYi94BZUQnkkyznbGUZLjT.jpg</td>\n",
       "    </tr>\n",
       "  </tbody>\n",
       "</table>\n",
       "</div>"
      ],
      "text/plain": [
       "                   crews_id crews_department crews_gender crews_id_M  \\\n",
       "0  52fe4284c3a36847f8024f49        Directing            2       7879   \n",
       "1  52fe4284c3a36847f8024f4f          Writing            2      12891   \n",
       "2  52fe4284c3a36847f8024f55          Writing            2          7   \n",
       "3  52fe4284c3a36847f8024f5b          Writing            2      12892   \n",
       "4  52fe4284c3a36847f8024f61          Writing            0      12893   \n",
       "\n",
       "    crews_job      crews_name                crews_profile_path  \n",
       "0    Director   John Lasseter  /7EdqiNbr4FRjIhKHyPPdFfEEEFG.jpg  \n",
       "1  Screenplay     Joss Whedon  /dTiVsuaTVTeGmvkhcyJvKp2A5kr.jpg  \n",
       "2  Screenplay  Andrew Stanton  /pvQWsu0qc8JFQhMVJkTHuexUAa1.jpg  \n",
       "3  Screenplay      Joel Cohen  /dAubAiZcvKFbboWlj7oXOkZnTSu.jpg  \n",
       "4  Screenplay    Alec Sokolow  /v79vlRYi94BZUQnkkyznbGUZLjT.jpg  "
      ]
     },
     "execution_count": 35,
     "metadata": {},
     "output_type": "execute_result"
    }
   ],
   "source": [
    "import ast\n",
    "\n",
    "def desanidar_crew(crews):\n",
    "    crews_id = []\n",
    "    crews_department = []\n",
    "    crews_gender = []\n",
    "    crews_id_M = []\n",
    "    crews_job = []\n",
    "    crews_name = []\n",
    "    crews_profile_path = []\n",
    "\n",
    "    for crew in crews:\n",
    "        crews_id.append(crew.get('credit_id'))\n",
    "        crews_department.append(crew.get('department'))\n",
    "        crews_gender.append(crew.get('gender'))\n",
    "        crews_id_M.append(crew.get('id'))\n",
    "        crews_job.append(crew.get('job'))\n",
    "        crews_name.append(crew.get('name'))\n",
    "        crews_profile_path.append(crew.get('profile_path'))\n",
    "\n",
    "    return crews_id, crews_department, crews_gender, crews_id_M, crews_job, crews_name, crews_profile_path\n",
    "\n",
    "def parse_crew_data(x):\n",
    "    try:\n",
    "        crews = ast.literal_eval(x)\n",
    "        return desanidar_crew(crews)\n",
    "    except (SyntaxError, ValueError):\n",
    "        return ([], [], [], [], [], [], [])\n",
    "\n",
    "generos_desanidados = df_Movies_credits['crew'].apply(parse_crew_data)\n",
    "\n",
    "nuevo_df_movies = pd.DataFrame(generos_desanidados.tolist(), columns=['crews_id','crews_department','crews_gender','crews_id_M','crews_job','crews_name','crews_profile_path'])\n",
    "\n",
    "nuevo_df_movies = nuevo_df_movies.apply(pd.Series.explode)\n",
    "nuevo_df_movies = nuevo_df_movies.reset_index(drop=True)\n",
    "\n",
    "nuevo_df_movies.head()\n"
   ]
  },
  {
   "cell_type": "code",
   "execution_count": 36,
   "metadata": {},
   "outputs": [],
   "source": [
    "nuevo_df_movies.to_csv('DATA/df_crewfinal.csv', index=False)"
   ]
  },
  {
   "cell_type": "code",
   "execution_count": 37,
   "metadata": {},
   "outputs": [
    {
     "name": "stdout",
     "output_type": "stream",
     "text": [
      "[{'credit_id': '52fe44bfc3a36847f80a7cd1', 'department': 'Production', 'gender': 2, 'id': 511, 'job': 'Executive Producer', 'name': 'Larry J. Franco', 'profile_path': None}, {'credit_id': '52fe44bfc3a36847f80a7c89', 'department': 'Writing', 'gender': 2, 'id': 876, 'job': 'Screenplay', 'name': 'Jonathan Hensleigh', 'profile_path': '/l1c4UFD3g0HVWj5f0CxXAvMAGiT.jpg'}, {'credit_id': '52fe44bfc3a36847f80a7cdd', 'department': 'Sound', 'gender': 2, 'id': 1729, 'job': 'Original Music Composer', 'name': 'James Horner', 'profile_path': '/oLOtXxXsYk8X4qq0ud4xVypXudi.jpg'}, {'credit_id': '52fe44bfc3a36847f80a7c7d', 'department': 'Directing', 'gender': 2, 'id': 4945, 'job': 'Director', 'name': 'Joe Johnston', 'profile_path': '/fok4jaO62v5IP6hkpaaAcXuw2H.jpg'}, {'credit_id': '52fe44bfc3a36847f80a7cd7', 'department': 'Editing', 'gender': 2, 'id': 4951, 'job': 'Editor', 'name': 'Robert Dalva', 'profile_path': None}, {'credit_id': '573523bec3a368025100062c', 'department': 'Production', 'gender': 0, 'id': 4952, 'job': 'Casting', 'name': 'Nancy Foy', 'profile_path': '/blCkmS4dqNsbPGuQfozHE6wgWBw.jpg'}, {'credit_id': '5722a924c3a3682d1e000b41', 'department': 'Visual Effects', 'gender': 0, 'id': 8023, 'job': 'Animation Supervisor', 'name': 'Kyle Balda', 'profile_path': '/jR8iAP6uC0V42KbUG87qBIUO3Hj.jpg'}, {'credit_id': '52fe44c0c3a36847f80a7ce3', 'department': 'Art', 'gender': 2, 'id': 9967, 'job': 'Production Design', 'name': 'James D. Bissell', 'profile_path': None}, {'credit_id': '52fe44bfc3a36847f80a7cb9', 'department': 'Production', 'gender': 2, 'id': 9184, 'job': 'Producer', 'name': 'Scott Kroopf', 'profile_path': None}, {'credit_id': '52fe44bfc3a36847f80a7ccb', 'department': 'Production', 'gender': 2, 'id': 9196, 'job': 'Executive Producer', 'name': 'Ted Field', 'profile_path': '/qmB7sZcgRUq7mRFBSTlSsVXh7sH.jpg'}, {'credit_id': '52fe44bfc3a36847f80a7cc5', 'department': 'Production', 'gender': 2, 'id': 18389, 'job': 'Executive Producer', 'name': 'Robert W. Cort', 'profile_path': None}, {'credit_id': '52fe44bfc3a36847f80a7cbf', 'department': 'Camera', 'gender': 2, 'id': 11371, 'job': 'Director of Photography', 'name': 'Thomas E. Ackerman', 'profile_path': '/xFDbxk53icM1ofL4iCIwB4GkUxN.jpg'}, {'credit_id': '52fe44bfc3a36847f80a7c83', 'department': 'Writing', 'gender': 2, 'id': 42356, 'job': 'Novel', 'name': 'Chris van Allsburg', 'profile_path': None}, {'credit_id': '52fe44bfc3a36847f80a7cb3', 'department': 'Production', 'gender': 2, 'id': 42357, 'job': 'Producer', 'name': 'William Teitler', 'profile_path': None}, {'credit_id': '52fe44bfc3a36847f80a7c8f', 'department': 'Writing', 'gender': 2, 'id': 56520, 'job': 'Screenplay', 'name': 'Greg Taylor', 'profile_path': None}, {'credit_id': '52fe44bfc3a36847f80a7c95', 'department': 'Writing', 'gender': 2, 'id': 56521, 'job': 'Screenplay', 'name': 'Jim Strain', 'profile_path': None}]\n"
     ]
    }
   ],
   "source": [
    "print(df_Movies_credits['crew'].iloc[1])"
   ]
  },
  {
   "attachments": {},
   "cell_type": "markdown",
   "metadata": {},
   "source": [
    "## Eliminar las columnas que no serán utilizadas, video,imdb_id,adult,original_title,poster_path y homepage.\n",
    "\n"
   ]
  },
  {
   "cell_type": "code",
   "execution_count": 38,
   "metadata": {},
   "outputs": [],
   "source": [
    "columnas_anidadas = ['genres', 'belongs_to_collection','production_companies','production_countries', 'spoken_languages']\n",
    "desanidos = desanidar_columnas(df_Movies_credits, columnas_anidadas)"
   ]
  },
  {
   "cell_type": "code",
   "execution_count": 39,
   "metadata": {},
   "outputs": [],
   "source": [
    "df_movies1 = agregar_columnas_desanidadas(df_Movies_credits, columnas_anidadas)"
   ]
  },
  {
   "cell_type": "code",
   "execution_count": 40,
   "metadata": {},
   "outputs": [],
   "source": [
    "df_movies1 = eliminar_columnas(df_movies1, [ 'genres', 'belongs_to_collection', 'production_companies', 'production_countries', 'spoken_languages'])\n"
   ]
  },
  {
   "cell_type": "code",
   "execution_count": 41,
   "metadata": {},
   "outputs": [],
   "source": [
    "def formatear_columnas(dataframe, *columnas):\n",
    "    for columna in columnas:\n",
    "        # Replace NaN and inf with 0\n",
    "        dataframe[columna] = dataframe[columna].fillna(0).replace([np.inf, -np.inf], 0)\n",
    "        # Convert the column to float and then to integer\n",
    "        dataframe[columna] = dataframe[columna].astype(float).astype(int).astype(str)\n",
    "        dataframe[columna] = dataframe[columna].str.replace('.0', '')\n",
    "    return dataframe"
   ]
  },
  {
   "cell_type": "code",
   "execution_count": 42,
   "metadata": {},
   "outputs": [
    {
     "data": {
      "text/html": [
       "<div>\n",
       "<style scoped>\n",
       "    .dataframe tbody tr th:only-of-type {\n",
       "        vertical-align: middle;\n",
       "    }\n",
       "\n",
       "    .dataframe tbody tr th {\n",
       "        vertical-align: top;\n",
       "    }\n",
       "\n",
       "    .dataframe thead th {\n",
       "        text-align: right;\n",
       "    }\n",
       "</style>\n",
       "<table border=\"1\" class=\"dataframe\">\n",
       "  <thead>\n",
       "    <tr style=\"text-align: right;\">\n",
       "      <th></th>\n",
       "      <th>budget</th>\n",
       "      <th>id</th>\n",
       "      <th>original_language</th>\n",
       "      <th>overview</th>\n",
       "      <th>popularity</th>\n",
       "      <th>release_date</th>\n",
       "      <th>revenue</th>\n",
       "      <th>runtime</th>\n",
       "      <th>status</th>\n",
       "      <th>tagline</th>\n",
       "      <th>title</th>\n",
       "      <th>vote_average</th>\n",
       "      <th>vote_count</th>\n",
       "      <th>cast</th>\n",
       "      <th>crew</th>\n",
       "      <th>release_year</th>\n",
       "      <th>return</th>\n",
       "      <th>mes</th>\n",
       "      <th>dia</th>\n",
       "      <th>genres_desanidada</th>\n",
       "      <th>belongs_to_collection_desanidada</th>\n",
       "      <th>production_companies_desanidada</th>\n",
       "      <th>production_countries_desanidada</th>\n",
       "      <th>spoken_languages_desanidada</th>\n",
       "    </tr>\n",
       "  </thead>\n",
       "  <tbody>\n",
       "    <tr>\n",
       "      <th>0</th>\n",
       "      <td>30000000</td>\n",
       "      <td>862</td>\n",
       "      <td>en</td>\n",
       "      <td>Led by Woody, Andy's toys live happily in his room until Andy's birthday brings Buzz Lightyear o...</td>\n",
       "      <td>21.95</td>\n",
       "      <td>1995-10-30</td>\n",
       "      <td>373554033</td>\n",
       "      <td>81</td>\n",
       "      <td>Released</td>\n",
       "      <td>[{Sin Datos}]</td>\n",
       "      <td>Toy Story</td>\n",
       "      <td>7.7</td>\n",
       "      <td>5415</td>\n",
       "      <td>[{'cast_id': 14, 'character': 'Woody (voice)', 'credit_id': '52fe4284c3a36847f8024f95', 'gender'...</td>\n",
       "      <td>[{'credit_id': '52fe4284c3a36847f8024f49', 'department': 'Directing', 'gender': 2, 'id': 7879, '...</td>\n",
       "      <td>1995</td>\n",
       "      <td>12.45</td>\n",
       "      <td>octubre</td>\n",
       "      <td>lunes</td>\n",
       "      <td>[{'id': 16, 'name': 'Animation'}, {'id': 35, 'name': 'Comedy'}, {'id': 10751, 'name': 'Family'}]</td>\n",
       "      <td>{'id': 10194, 'name': 'Toy Story Collection', 'poster_path': '/7G9915LfUQ2lVfwMEEhDsn3kT4B.jpg',...</td>\n",
       "      <td>[{'name': 'Pixar Animation Studios', 'id': 3}]</td>\n",
       "      <td>[{'iso_3166_1': 'US', 'name': 'United States of America'}]</td>\n",
       "      <td>[{'iso_639_1': 'en', 'name': 'English'}]</td>\n",
       "    </tr>\n",
       "  </tbody>\n",
       "</table>\n",
       "</div>"
      ],
      "text/plain": [
       "     budget   id original_language  \\\n",
       "0  30000000  862                en   \n",
       "\n",
       "                                                                                              overview  \\\n",
       "0  Led by Woody, Andy's toys live happily in his room until Andy's birthday brings Buzz Lightyear o...   \n",
       "\n",
       "   popularity release_date    revenue runtime    status        tagline  \\\n",
       "0       21.95   1995-10-30  373554033      81  Released  [{Sin Datos}]   \n",
       "\n",
       "       title vote_average vote_count  \\\n",
       "0  Toy Story          7.7       5415   \n",
       "\n",
       "                                                                                                  cast  \\\n",
       "0  [{'cast_id': 14, 'character': 'Woody (voice)', 'credit_id': '52fe4284c3a36847f8024f95', 'gender'...   \n",
       "\n",
       "                                                                                                  crew  \\\n",
       "0  [{'credit_id': '52fe4284c3a36847f8024f49', 'department': 'Directing', 'gender': 2, 'id': 7879, '...   \n",
       "\n",
       "   release_year  return      mes    dia  \\\n",
       "0          1995   12.45  octubre  lunes   \n",
       "\n",
       "                                                                                  genres_desanidada  \\\n",
       "0  [{'id': 16, 'name': 'Animation'}, {'id': 35, 'name': 'Comedy'}, {'id': 10751, 'name': 'Family'}]   \n",
       "\n",
       "                                                                      belongs_to_collection_desanidada  \\\n",
       "0  {'id': 10194, 'name': 'Toy Story Collection', 'poster_path': '/7G9915LfUQ2lVfwMEEhDsn3kT4B.jpg',...   \n",
       "\n",
       "                  production_companies_desanidada  \\\n",
       "0  [{'name': 'Pixar Animation Studios', 'id': 3}]   \n",
       "\n",
       "                              production_countries_desanidada  \\\n",
       "0  [{'iso_3166_1': 'US', 'name': 'United States of America'}]   \n",
       "\n",
       "                spoken_languages_desanidada  \n",
       "0  [{'iso_639_1': 'en', 'name': 'English'}]  "
      ]
     },
     "execution_count": 42,
     "metadata": {},
     "output_type": "execute_result"
    }
   ],
   "source": [
    "df_movies1.head(1)"
   ]
  },
  {
   "cell_type": "code",
   "execution_count": 43,
   "metadata": {},
   "outputs": [],
   "source": [
    "#columnas_borrar_1 = ['original_language','overview', 'tagline']\n",
    "\n",
    "#df_movies1 = df_movies1.drop(columnas_borrar_1, axis=1)\n",
    "\n",
    "#n_filas_a_eliminar_1 = 5000  \n",
    "\n",
    "# Utiliza el método \"drop\" para eliminar las últimas n filas\n",
    "#df_movies1 = df_movies1.drop(df_movies1.tail(n_filas_a_eliminar_1).index)"
   ]
  },
  {
   "cell_type": "code",
   "execution_count": 44,
   "metadata": {},
   "outputs": [],
   "source": [
    "df_movies1['crew'] = df_movies1['crew'].str.replace(r'\\b\\w{24}\\b', '', regex=True)\n"
   ]
  },
  {
   "cell_type": "code",
   "execution_count": 45,
   "metadata": {},
   "outputs": [],
   "source": [
    "df_movies1['release_date'] = pd.to_datetime(df_movies1['release_date'])\n"
   ]
  },
  {
   "cell_type": "code",
   "execution_count": 46,
   "metadata": {},
   "outputs": [],
   "source": [
    "df_movies1.to_csv('DATA/df_movies1.csv', index=False)"
   ]
  },
  {
   "cell_type": "code",
   "execution_count": 47,
   "metadata": {},
   "outputs": [],
   "source": [
    "# Expandir la columna \"genres\" en filas\n",
    "genres_df = df_movies1.explode(\"genres_desanidada\")\n",
    "\n",
    "# Crear un nuevo DataFrame con las columnas deseadas\n",
    "movie_genres_df = genres_df[[\"id\", \"genres_desanidada\"]]\n",
    "\n",
    "# Guardar el DataFrame en un archivo CSV\n",
    "movie_genres_df.to_csv(\"DATA/movie_genres.csv\", index=False)"
   ]
  },
  {
   "cell_type": "code",
   "execution_count": 48,
   "metadata": {},
   "outputs": [
    {
     "data": {
      "text/html": [
       "<div>\n",
       "<style scoped>\n",
       "    .dataframe tbody tr th:only-of-type {\n",
       "        vertical-align: middle;\n",
       "    }\n",
       "\n",
       "    .dataframe tbody tr th {\n",
       "        vertical-align: top;\n",
       "    }\n",
       "\n",
       "    .dataframe thead th {\n",
       "        text-align: right;\n",
       "    }\n",
       "</style>\n",
       "<table border=\"1\" class=\"dataframe\">\n",
       "  <thead>\n",
       "    <tr style=\"text-align: right;\">\n",
       "      <th></th>\n",
       "      <th>id</th>\n",
       "      <th>genres_desanidada</th>\n",
       "    </tr>\n",
       "  </thead>\n",
       "  <tbody>\n",
       "    <tr>\n",
       "      <th>0</th>\n",
       "      <td>862</td>\n",
       "      <td>[{'id': 16, 'name': 'Animation'}, {'id': 35, 'name': 'Comedy'}, {'id': 10751, 'name': 'Family'}]</td>\n",
       "    </tr>\n",
       "    <tr>\n",
       "      <th>1</th>\n",
       "      <td>8844</td>\n",
       "      <td>[{'id': 12, 'name': 'Adventure'}, {'id': 14, 'name': 'Fantasy'}, {'id': 10751, 'name': 'Family'}]</td>\n",
       "    </tr>\n",
       "    <tr>\n",
       "      <th>2</th>\n",
       "      <td>15602</td>\n",
       "      <td>[{'id': 10749, 'name': 'Romance'}, {'id': 35, 'name': 'Comedy'}]</td>\n",
       "    </tr>\n",
       "    <tr>\n",
       "      <th>3</th>\n",
       "      <td>31357</td>\n",
       "      <td>[{'id': 35, 'name': 'Comedy'}, {'id': 18, 'name': 'Drama'}, {'id': 10749, 'name': 'Romance'}]</td>\n",
       "    </tr>\n",
       "    <tr>\n",
       "      <th>4</th>\n",
       "      <td>11862</td>\n",
       "      <td>[{'id': 35, 'name': 'Comedy'}]</td>\n",
       "    </tr>\n",
       "  </tbody>\n",
       "</table>\n",
       "</div>"
      ],
      "text/plain": [
       "      id  \\\n",
       "0    862   \n",
       "1   8844   \n",
       "2  15602   \n",
       "3  31357   \n",
       "4  11862   \n",
       "\n",
       "                                                                                   genres_desanidada  \n",
       "0   [{'id': 16, 'name': 'Animation'}, {'id': 35, 'name': 'Comedy'}, {'id': 10751, 'name': 'Family'}]  \n",
       "1  [{'id': 12, 'name': 'Adventure'}, {'id': 14, 'name': 'Fantasy'}, {'id': 10751, 'name': 'Family'}]  \n",
       "2                                   [{'id': 10749, 'name': 'Romance'}, {'id': 35, 'name': 'Comedy'}]  \n",
       "3      [{'id': 35, 'name': 'Comedy'}, {'id': 18, 'name': 'Drama'}, {'id': 10749, 'name': 'Romance'}]  \n",
       "4                                                                     [{'id': 35, 'name': 'Comedy'}]  "
      ]
     },
     "execution_count": 48,
     "metadata": {},
     "output_type": "execute_result"
    }
   ],
   "source": [
    "# Assuming df_genre is the DataFrame loaded from \"DATA/movie_genres.csv\"\n",
    "df_genre = pd.read_csv(\"DATA/movie_genres.csv\")\n",
    "\n",
    "# Remove leading zeros and convert 'id' column to numeric, handling non-numeric values\n",
    "df_genre['id'] = pd.to_numeric(df_genre['id'], errors='coerce').astype('Int64')\n",
    "\n",
    "df_genre.head()"
   ]
  },
  {
   "cell_type": "code",
   "execution_count": 49,
   "metadata": {},
   "outputs": [
    {
     "data": {
      "text/html": [
       "<div>\n",
       "<style scoped>\n",
       "    .dataframe tbody tr th:only-of-type {\n",
       "        vertical-align: middle;\n",
       "    }\n",
       "\n",
       "    .dataframe tbody tr th {\n",
       "        vertical-align: top;\n",
       "    }\n",
       "\n",
       "    .dataframe thead th {\n",
       "        text-align: right;\n",
       "    }\n",
       "</style>\n",
       "<table border=\"1\" class=\"dataframe\">\n",
       "  <thead>\n",
       "    <tr style=\"text-align: right;\">\n",
       "      <th></th>\n",
       "      <th>genero_id</th>\n",
       "      <th>genero_nombre</th>\n",
       "    </tr>\n",
       "  </thead>\n",
       "  <tbody>\n",
       "    <tr>\n",
       "      <th>0</th>\n",
       "      <td>16</td>\n",
       "      <td>[Animation, Comedy, Family]</td>\n",
       "    </tr>\n",
       "    <tr>\n",
       "      <th>1</th>\n",
       "      <td>35</td>\n",
       "      <td>[Animation, Comedy, Family]</td>\n",
       "    </tr>\n",
       "    <tr>\n",
       "      <th>2</th>\n",
       "      <td>10751</td>\n",
       "      <td>[Animation, Comedy, Family]</td>\n",
       "    </tr>\n",
       "    <tr>\n",
       "      <th>3</th>\n",
       "      <td>12</td>\n",
       "      <td>[Adventure, Fantasy, Family]</td>\n",
       "    </tr>\n",
       "    <tr>\n",
       "      <th>4</th>\n",
       "      <td>14</td>\n",
       "      <td>[Adventure, Fantasy, Family]</td>\n",
       "    </tr>\n",
       "  </tbody>\n",
       "</table>\n",
       "</div>"
      ],
      "text/plain": [
       "  genero_id                 genero_nombre\n",
       "0        16   [Animation, Comedy, Family]\n",
       "1        35   [Animation, Comedy, Family]\n",
       "2     10751   [Animation, Comedy, Family]\n",
       "3        12  [Adventure, Fantasy, Family]\n",
       "4        14  [Adventure, Fantasy, Family]"
      ]
     },
     "execution_count": 49,
     "metadata": {},
     "output_type": "execute_result"
    }
   ],
   "source": [
    "import ast\n",
    "\n",
    "def desanidar_generos(genres):\n",
    "    genero_id = [genero['id'] for genero in genres]\n",
    "    genero_nombre = [genero['name'] for genero in genres]\n",
    "    return genero_id, genero_nombre\n",
    "\n",
    "# Filtrar los valores no nulos en la columna 'genres_desanidada'\n",
    "generos_desanidados = df_genre['genres_desanidada'].apply(lambda x: desanidar_generos(ast.literal_eval(x)) if pd.notna(x) else ([], []))\n",
    "\n",
    "# Crear un nuevo DataFrame a partir de los géneros desanidados\n",
    "nuevo_df = pd.DataFrame(generos_desanidados.tolist(), columns=['genero_id', 'genero_nombre'])\n",
    "\n",
    "# Explotar las columnas para que cada fila tenga un solo género\n",
    "nuevo_df = nuevo_df.explode('genero_id').reset_index(drop=True)\n",
    "\n",
    "# Mostrar las primeras filas del nuevo DataFrame\n",
    "nuevo_df.head(5)\n"
   ]
  },
  {
   "cell_type": "code",
   "execution_count": 50,
   "metadata": {},
   "outputs": [],
   "source": [
    "del df_genre['genres_desanidada']"
   ]
  },
  {
   "cell_type": "code",
   "execution_count": 51,
   "metadata": {},
   "outputs": [
    {
     "data": {
      "text/html": [
       "<div>\n",
       "<style scoped>\n",
       "    .dataframe tbody tr th:only-of-type {\n",
       "        vertical-align: middle;\n",
       "    }\n",
       "\n",
       "    .dataframe tbody tr th {\n",
       "        vertical-align: top;\n",
       "    }\n",
       "\n",
       "    .dataframe thead th {\n",
       "        text-align: right;\n",
       "    }\n",
       "</style>\n",
       "<table border=\"1\" class=\"dataframe\">\n",
       "  <thead>\n",
       "    <tr style=\"text-align: right;\">\n",
       "      <th></th>\n",
       "      <th>id</th>\n",
       "    </tr>\n",
       "  </thead>\n",
       "  <tbody>\n",
       "    <tr>\n",
       "      <th>0</th>\n",
       "      <td>862</td>\n",
       "    </tr>\n",
       "    <tr>\n",
       "      <th>1</th>\n",
       "      <td>8844</td>\n",
       "    </tr>\n",
       "    <tr>\n",
       "      <th>2</th>\n",
       "      <td>15602</td>\n",
       "    </tr>\n",
       "    <tr>\n",
       "      <th>3</th>\n",
       "      <td>31357</td>\n",
       "    </tr>\n",
       "    <tr>\n",
       "      <th>4</th>\n",
       "      <td>11862</td>\n",
       "    </tr>\n",
       "  </tbody>\n",
       "</table>\n",
       "</div>"
      ],
      "text/plain": [
       "      id\n",
       "0    862\n",
       "1   8844\n",
       "2  15602\n",
       "3  31357\n",
       "4  11862"
      ]
     },
     "execution_count": 51,
     "metadata": {},
     "output_type": "execute_result"
    }
   ],
   "source": [
    "df_genre.head()"
   ]
  },
  {
   "cell_type": "code",
   "execution_count": 52,
   "metadata": {},
   "outputs": [],
   "source": [
    "# Unir el DataFrame original con las columnas 'genero_id' y 'genero_nombre' del nuevo DataFrame\n",
    "df = df_genre.join(nuevo_df[['genero_id', 'genero_nombre']])"
   ]
  },
  {
   "cell_type": "code",
   "execution_count": 53,
   "metadata": {},
   "outputs": [
    {
     "data": {
      "text/html": [
       "<div>\n",
       "<style scoped>\n",
       "    .dataframe tbody tr th:only-of-type {\n",
       "        vertical-align: middle;\n",
       "    }\n",
       "\n",
       "    .dataframe tbody tr th {\n",
       "        vertical-align: top;\n",
       "    }\n",
       "\n",
       "    .dataframe thead th {\n",
       "        text-align: right;\n",
       "    }\n",
       "</style>\n",
       "<table border=\"1\" class=\"dataframe\">\n",
       "  <thead>\n",
       "    <tr style=\"text-align: right;\">\n",
       "      <th></th>\n",
       "      <th>id</th>\n",
       "      <th>genero_id</th>\n",
       "      <th>genero_nombre</th>\n",
       "    </tr>\n",
       "  </thead>\n",
       "  <tbody>\n",
       "    <tr>\n",
       "      <th>0</th>\n",
       "      <td>862</td>\n",
       "      <td>16</td>\n",
       "      <td>[Animation, Comedy, Family]</td>\n",
       "    </tr>\n",
       "    <tr>\n",
       "      <th>1</th>\n",
       "      <td>8844</td>\n",
       "      <td>35</td>\n",
       "      <td>[Animation, Comedy, Family]</td>\n",
       "    </tr>\n",
       "    <tr>\n",
       "      <th>2</th>\n",
       "      <td>15602</td>\n",
       "      <td>10751</td>\n",
       "      <td>[Animation, Comedy, Family]</td>\n",
       "    </tr>\n",
       "    <tr>\n",
       "      <th>3</th>\n",
       "      <td>31357</td>\n",
       "      <td>12</td>\n",
       "      <td>[Adventure, Fantasy, Family]</td>\n",
       "    </tr>\n",
       "    <tr>\n",
       "      <th>4</th>\n",
       "      <td>11862</td>\n",
       "      <td>14</td>\n",
       "      <td>[Adventure, Fantasy, Family]</td>\n",
       "    </tr>\n",
       "  </tbody>\n",
       "</table>\n",
       "</div>"
      ],
      "text/plain": [
       "      id genero_id                 genero_nombre\n",
       "0    862        16   [Animation, Comedy, Family]\n",
       "1   8844        35   [Animation, Comedy, Family]\n",
       "2  15602     10751   [Animation, Comedy, Family]\n",
       "3  31357        12  [Adventure, Fantasy, Family]\n",
       "4  11862        14  [Adventure, Fantasy, Family]"
      ]
     },
     "execution_count": 53,
     "metadata": {},
     "output_type": "execute_result"
    }
   ],
   "source": [
    "df.head()"
   ]
  },
  {
   "cell_type": "code",
   "execution_count": 54,
   "metadata": {},
   "outputs": [],
   "source": [
    "df.to_csv('DATA/movie_genres.csv', index=False)"
   ]
  },
  {
   "cell_type": "markdown",
   "metadata": {},
   "source": [
    "## API"
   ]
  },
  {
   "cell_type": "code",
   "execution_count": 55,
   "metadata": {},
   "outputs": [],
   "source": [
    "from fastapi import FastAPI\n",
    "\n",
    "import uvicorn"
   ]
  },
  {
   "cell_type": "code",
   "execution_count": 56,
   "metadata": {},
   "outputs": [],
   "source": [
    "app = FastAPI()"
   ]
  },
  {
   "cell_type": "code",
   "execution_count": 57,
   "metadata": {},
   "outputs": [],
   "source": [
    "@app.get('/cantidad_filmaciones_mes')\n",
    "def cantidad_filmaciones_mes(mes: str):\n",
    "    mes = mes.lower()\n",
    "\n",
    "    meses = {\n",
    "    'enero': 1,\n",
    "    'febrero': 2,\n",
    "    'marzo': 3, \n",
    "    'abril': 4,\n",
    "    'mayo': 5,\n",
    "    'junio': 6,\n",
    "    'julio': 7,\n",
    "    'agosto': 8,\n",
    "    'septiembre': 9,\n",
    "    'octubre': 10,\n",
    "    'noviembre': 11,\n",
    "    'diciembre': 12\n",
    "  }\n",
    "    \n",
    "    if mes not in meses:\n",
    "        return f\"No se reconoce el mes '{mes.capitalize()}'\"\n",
    "    \n",
    "    # Obtenemomo el número del mes a partir del diccionario de mapeo\n",
    "    numero_mes = meses[mes]\n",
    "    \n",
    "    # Filtramos las filas que corresponden al mes específico\n",
    "    peliculas_mes = df_movies1[df_movies1['release_date'].dt.month == numero_mes]\n",
    "    \n",
    "    # Obtenemos la cantidad de películas estrenadas en el mes\n",
    "    cantidad_peliculas = len(peliculas_mes)\n",
    "    \n",
    "    # Devolvemos la cantidad de películas en la respuesta\n",
    "    return f\"{cantidad_peliculas} cantidad de películas fueron estrenadas en el mes de {mes.capitalize()}\""
   ]
  },
  {
   "cell_type": "code",
   "execution_count": 58,
   "metadata": {},
   "outputs": [
    {
     "data": {
      "text/plain": [
       "'5976 cantidad de películas fueron estrenadas en el mes de Enero'"
      ]
     },
     "execution_count": 58,
     "metadata": {},
     "output_type": "execute_result"
    }
   ],
   "source": [
    "cantidad_filmaciones_mes('enero')"
   ]
  },
  {
   "cell_type": "code",
   "execution_count": 59,
   "metadata": {},
   "outputs": [],
   "source": [
    "@app.get('/cantidad_filmaciones_dia')\n",
    "\n",
    "# Función para obtener el día de la semana a partir de una fecha en formato AAAA-MM-DD\n",
    "def obtener_dia_semana(fecha):\n",
    "    try:\n",
    "        dia_semana = pd.to_datetime(fecha).day_name(locale='es')\n",
    "        return dia_semana.lower()\n",
    "    except:\n",
    "        return None\n",
    "\n",
    "# Función para contar la cantidad de películas estrenadas en un día de la semana específico\n",
    "def cantidad_filmaciones_dia(dia):\n",
    "    dia = dia.lower()\n",
    "    \n",
    "    # Filtrar las filas que corresponden al día de la semana específico\n",
    "    peliculas_dia = df_movies1[df_movies1['release_date'].apply(lambda x: obtener_dia_semana(x) == dia)]\n",
    "    \n",
    "    # Obtener la cantidad de películas estrenadas en el día\n",
    "    cantidad_peliculas = len(peliculas_dia)\n",
    "    \n",
    "    # Devolver la cantidad de películas en la respuesta\n",
    "    return f\"{cantidad_peliculas} cantidad de películas fueron estrenadas en los días {dia.capitalize()}\""
   ]
  },
  {
   "cell_type": "code",
   "execution_count": 60,
   "metadata": {},
   "outputs": [
    {
     "name": "stdout",
     "output_type": "stream",
     "text": [
      "4640 cantidad de películas fueron estrenadas en los días Martes\n"
     ]
    }
   ],
   "source": [
    "resultado = cantidad_filmaciones_dia('martes')\n",
    "print(resultado)"
   ]
  },
  {
   "cell_type": "code",
   "execution_count": 61,
   "metadata": {},
   "outputs": [],
   "source": [
    "@app.get('/score_titulo')\n",
    "def score_titulo(titulo_de_la_filmacion: str):\n",
    "    # Filtrar la fila correspondiente al título de la filmación\n",
    "    pelicula = df_movies1[df_movies1['title'] == titulo_de_la_filmacion]\n",
    "    \n",
    "    if pelicula.empty:\n",
    "        return f\"No se encontró la filmación con título '{titulo_de_la_filmacion}'\"\n",
    "    \n",
    "    # Obtener el título, año de estreno y score de la película\n",
    "    titulo = pelicula['title'].iloc[0]\n",
    "    anio_estreno = pelicula['release_year'].iloc[0]\n",
    "    score = pelicula['popularity'].iloc[0]\n",
    "    \n",
    "    # Devolver la información en la respuesta\n",
    "    return f\"La película {titulo} fue estrenada en el año {anio_estreno} con un score/popularidad de {score}\""
   ]
  },
  {
   "cell_type": "code",
   "execution_count": 62,
   "metadata": {},
   "outputs": [
    {
     "data": {
      "text/plain": [
       "'La película Toy Story fue estrenada en el año 1995 con un score/popularidad de 21.95'"
      ]
     },
     "execution_count": 62,
     "metadata": {},
     "output_type": "execute_result"
    }
   ],
   "source": [
    "score_titulo('Toy Story')"
   ]
  },
  {
   "cell_type": "code",
   "execution_count": 63,
   "metadata": {},
   "outputs": [],
   "source": [
    "@app.get('/votos_titulo')\n",
    "def votos_titulo(titulo_de_la_filmación):\n",
    "    # Filtrar las filas que corresponden al título de la filmación\n",
    "    pelicula = df_movies1[df_movies1['title'] == titulo_de_la_filmación]\n",
    "    \n",
    "    # Verificar si se cumplen las condiciones mínimas de votos (al menos 2000)\n",
    "    cantidad_votos = int(pelicula['vote_count'].iloc[0])\n",
    "    if cantidad_votos < 2000:\n",
    "        return f\"La película '{titulo_de_la_filmación}' no cumple con el mínimo de 2000 votos.\"\n",
    "    \n",
    "    # Obtener el título, cantidad de votos y valor promedio de las votaciones\n",
    "    titulo = pelicula['title'].iloc[0]\n",
    "    promedio_votos = pelicula['vote_average'].iloc[0]\n",
    "    \n",
    "    # Devolver la información en la respuesta\n",
    "    return f\"La película '{titulo}' cuenta con un total de {cantidad_votos} valoraciones, con un promedio de {promedio_votos}.\""
   ]
  },
  {
   "cell_type": "code",
   "execution_count": 64,
   "metadata": {},
   "outputs": [
    {
     "data": {
      "text/plain": [
       "\"La película 'Toy Story' cuenta con un total de 5415 valoraciones, con un promedio de 7.7.\""
      ]
     },
     "execution_count": 64,
     "metadata": {},
     "output_type": "execute_result"
    }
   ],
   "source": [
    "votos_titulo('Toy Story')"
   ]
  },
  {
   "cell_type": "code",
   "execution_count": 65,
   "metadata": {},
   "outputs": [],
   "source": [
    "@app.get('/get_actor')\n",
    "def get_actor(nombre_actor:str):\n",
    "    # Filtrar las filas que corresponden al nombre del actor\n",
    "    peliculas_actor = df_movies1[df_movies1['cast'].str.contains(nombre_actor, case=False, na=False)]\n",
    "    \n",
    "    # Filtrar las filas que corresponden a películas en las que el actor no es director\n",
    "    peliculas_actor = peliculas_actor[~peliculas_actor['crew'].str.contains(nombre_actor, case=False, na=False)]\n",
    "    \n",
    "    # Obtener la cantidad de películas en las que ha participado el actor\n",
    "    cantidad_peliculas = len(peliculas_actor)\n",
    "    \n",
    "    # Verificar si el actor ha participado en al menos una película\n",
    "    if cantidad_peliculas == 0:\n",
    "        return f\"El actor {nombre_actor} no ha participado en ninguna película.\"\n",
    "    \n",
    "    # Convertir los valores de la columna 'revenue' a tipo numérico\n",
    "    peliculas_actor['revenue'] = pd.to_numeric(peliculas_actor['revenue'], errors='coerce')\n",
    "    \n",
    "    # Eliminar las filas con valores nulos en la columna 'revenue'\n",
    "    peliculas_actor = peliculas_actor.dropna(subset=['revenue'])\n",
    "    \n",
    "    # Calcular el retorno total del actor sumando los retornos de las películas en las que ha participado\n",
    "    retorno_total = peliculas_actor['revenue'].sum()\n",
    "    \n",
    "    # Calcular el promedio de retorno por película\n",
    "    promedio_retorno = retorno_total / cantidad_peliculas\n",
    "    \n",
    "    # Devolver la información en la respuesta\n",
    "    return f\"El actor {nombre_actor} ha participado en {cantidad_peliculas} filmaciones. Ha conseguido un retorno total de {retorno_total} con un promedio de {promedio_retorno} por filmación.\"\n"
   ]
  },
  {
   "cell_type": "code",
   "execution_count": 66,
   "metadata": {},
   "outputs": [
    {
     "data": {
      "text/plain": [
       "'El actor Alan Parrish ha participado en 1 filmaciones. Ha conseguido un retorno total de 262797249 con un promedio de 262797249.0 por filmación.'"
      ]
     },
     "execution_count": 66,
     "metadata": {},
     "output_type": "execute_result"
    }
   ],
   "source": [
    "get_actor('Alan Parrish')"
   ]
  },
  {
   "cell_type": "code",
   "execution_count": 67,
   "metadata": {},
   "outputs": [],
   "source": [
    "@app.get(\"/get_director/{nombre}\", tags=['Consulta 6'])\n",
    "def nombre_director(nombre: str):\n",
    "    # Filtrar las filas en las que el director aparece en la columna \"crew_name\" y \"crew_job\" contiene \"Director\"\n",
    "    director_movies = df_movies1[(df_movies1['crew'].str.contains(nombre, case=False)) & (nuevo_df_movies['crews_job'] == \"Director\")]\n",
    "\n",
    "    # Verificar si se encontraron películas del director\n",
    "    if director_movies.empty:\n",
    "        return {\"mensaje\": f\"No se encontró al director {nombre} en la base de datos.\"}\n",
    "\n",
    "    # Obtener los ID de las películas en las que el director ha trabajado\n",
    "    movie_ids = director_movies['id'].tolist()\n",
    "\n",
    "    # Filtrar el DataFrame \"df_unidos\" para obtener los nombres, años, presupuestos, ingresos y relación de las películas correspondientes\n",
    "    movies = df_movies1[df_movies1['id'].isin(movie_ids)]\n",
    "\n",
    "    # Calcular las ganancias sumando todas las relaciones de las películas\n",
    "    ganancias = round(movies['return'].sum(), 2)\n",
    "\n",
    "    # Crear una lista de diccionarios con los ID, nombres, años, presupuestos, ingresos y relación de las películas\n",
    "    movie_info = []\n",
    "    for _, row in movies.iterrows():\n",
    "        movie_info.append({\n",
    "            \"id\": row['id'],\n",
    "            \"titulo\": row['title'],\n",
    "            \"anio\": row['release_year'],\n",
    "            \"presupuesto\": row['budget'],\n",
    "            \"ingresos\": row['revenue'],\n",
    "            \"relacion\": row['return']\n",
    "        })\n",
    "\n",
    "    return {\n",
    "        \"nombre_director\": nombre,\n",
    "        \"ganancias\": ganancias,\n",
    "        \"peliculas\": movie_info\n",
    "    }\n"
   ]
  },
  {
   "cell_type": "code",
   "execution_count": 77,
   "metadata": {},
   "outputs": [
    {
     "name": "stderr",
     "output_type": "stream",
     "text": [
      "C:\\Users\\Raksasa\\AppData\\Local\\Temp\\ipykernel_208\\4233732178.py:4: UserWarning: Boolean Series key will be reindexed to match DataFrame index.\n",
      "  director_movies = df_movies1[(df_movies1['crew'].str.contains(nombre, case=False)) & (nuevo_df_movies['crews_job'] == \"Director\")]\n"
     ]
    },
    {
     "data": {
      "text/plain": [
       "{'nombre_director': 'Steven Spielberg',\n",
       " 'ganancias': 12.72,\n",
       " 'peliculas': [{'id': '934',\n",
       "   'titulo': 'The Goonies',\n",
       "   'anio': 1985,\n",
       "   'presupuesto': '19000000',\n",
       "   'ingresos': '61503218',\n",
       "   'relacion': 3.24},\n",
       "  {'id': '196',\n",
       "   'titulo': 'Back to the Future Part III',\n",
       "   'anio': 1990,\n",
       "   'presupuesto': '40000000',\n",
       "   'ingresos': '244527583',\n",
       "   'relacion': 6.11},\n",
       "  {'id': '11618',\n",
       "   'titulo': 'The Haunting',\n",
       "   'anio': 1999,\n",
       "   'presupuesto': '80000000',\n",
       "   'ingresos': '91188905',\n",
       "   'relacion': 1.14},\n",
       "  {'id': '196',\n",
       "   'titulo': 'Bossa Nova',\n",
       "   'anio': 2000,\n",
       "   'presupuesto': '0',\n",
       "   'ingresos': '0',\n",
       "   'relacion': 0.0},\n",
       "  {'id': '934',\n",
       "   'titulo': 'Rififi',\n",
       "   'anio': 1955,\n",
       "   'presupuesto': '0',\n",
       "   'ingresos': '460226',\n",
       "   'relacion': 0.0},\n",
       "  {'id': '2565',\n",
       "   'titulo': 'Joe Versus the Volcano',\n",
       "   'anio': 1990,\n",
       "   'presupuesto': '0',\n",
       "   'ingresos': '39404261',\n",
       "   'relacion': 0.0},\n",
       "  {'id': '2565',\n",
       "   'titulo': 'Address Unknown',\n",
       "   'anio': 2001,\n",
       "   'presupuesto': '0',\n",
       "   'ingresos': '0',\n",
       "   'relacion': 0.0},\n",
       "  {'id': '13027',\n",
       "   'titulo': 'Eagle Eye',\n",
       "   'anio': 2008,\n",
       "   'presupuesto': '80000000',\n",
       "   'ingresos': '178066569',\n",
       "   'relacion': 2.23},\n",
       "  {'id': '36257',\n",
       "   'titulo': 'Tiny Toon Adventures: How I Spent My Vacation',\n",
       "   'anio': 1992,\n",
       "   'presupuesto': '0',\n",
       "   'ingresos': '0',\n",
       "   'relacion': 0.0}]}"
      ]
     },
     "execution_count": 77,
     "metadata": {},
     "output_type": "execute_result"
    }
   ],
   "source": [
    "nombre_director('Steven Spielberg')"
   ]
  },
  {
   "attachments": {},
   "cell_type": "markdown",
   "metadata": {},
   "source": [
    "## Machine Learning"
   ]
  },
  {
   "cell_type": "code",
   "execution_count": 69,
   "metadata": {},
   "outputs": [],
   "source": [
    "from sklearn.neighbors import NearestNeighbors"
   ]
  },
  {
   "cell_type": "code",
   "execution_count": 70,
   "metadata": {},
   "outputs": [],
   "source": [
    "datasets_final = pd.read_csv('DATA/df_fechafinal.csv')\n",
    "movie_genres = pd.read_csv('DATA/movie_genres.csv')"
   ]
  },
  {
   "cell_type": "code",
   "execution_count": 71,
   "metadata": {},
   "outputs": [
    {
     "data": {
      "text/html": [
       "<div>\n",
       "<style scoped>\n",
       "    .dataframe tbody tr th:only-of-type {\n",
       "        vertical-align: middle;\n",
       "    }\n",
       "\n",
       "    .dataframe tbody tr th {\n",
       "        vertical-align: top;\n",
       "    }\n",
       "\n",
       "    .dataframe thead th {\n",
       "        text-align: right;\n",
       "    }\n",
       "</style>\n",
       "<table border=\"1\" class=\"dataframe\">\n",
       "  <thead>\n",
       "    <tr style=\"text-align: right;\">\n",
       "      <th></th>\n",
       "      <th>id</th>\n",
       "      <th>genero_id</th>\n",
       "      <th>genero_nombre</th>\n",
       "    </tr>\n",
       "  </thead>\n",
       "  <tbody>\n",
       "    <tr>\n",
       "      <th>0</th>\n",
       "      <td>862</td>\n",
       "      <td>16</td>\n",
       "      <td>['Animation', 'Comedy', 'Family']</td>\n",
       "    </tr>\n",
       "    <tr>\n",
       "      <th>1</th>\n",
       "      <td>8844</td>\n",
       "      <td>35</td>\n",
       "      <td>['Animation', 'Comedy', 'Family']</td>\n",
       "    </tr>\n",
       "  </tbody>\n",
       "</table>\n",
       "</div>"
      ],
      "text/plain": [
       "     id  genero_id                      genero_nombre\n",
       "0   862         16  ['Animation', 'Comedy', 'Family']\n",
       "1  8844         35  ['Animation', 'Comedy', 'Family']"
      ]
     },
     "execution_count": 71,
     "metadata": {},
     "output_type": "execute_result"
    }
   ],
   "source": [
    "# Remove leading zeros and convert 'id' column to numeric, handling non-numeric values\n",
    "movie_genres['id'] = pd.to_numeric(movie_genres['id'], errors='coerce').astype('Int64')\n",
    "\n",
    "# Remove leading zeros and convert 'id' column to numeric, handling non-numeric values\n",
    "movie_genres['genero_id'] = pd.to_numeric(movie_genres['genero_id'], errors='coerce').astype('Int64')\n",
    "\n",
    "movie_genres.head(2)"
   ]
  },
  {
   "cell_type": "code",
   "execution_count": 84,
   "metadata": {},
   "outputs": [
    {
     "data": {
      "text/html": [
       "<div>\n",
       "<style scoped>\n",
       "    .dataframe tbody tr th:only-of-type {\n",
       "        vertical-align: middle;\n",
       "    }\n",
       "\n",
       "    .dataframe tbody tr th {\n",
       "        vertical-align: top;\n",
       "    }\n",
       "\n",
       "    .dataframe thead th {\n",
       "        text-align: right;\n",
       "    }\n",
       "</style>\n",
       "<table border=\"1\" class=\"dataframe\">\n",
       "  <thead>\n",
       "    <tr style=\"text-align: right;\">\n",
       "      <th></th>\n",
       "      <th>id</th>\n",
       "      <th>genero_id</th>\n",
       "      <th>genero</th>\n",
       "      <th>title</th>\n",
       "      <th>popularity</th>\n",
       "    </tr>\n",
       "  </thead>\n",
       "  <tbody>\n",
       "    <tr>\n",
       "      <th>0</th>\n",
       "      <td>862</td>\n",
       "      <td>16</td>\n",
       "      <td>['Animation', 'Comedy', 'Family']</td>\n",
       "      <td>Toy Story</td>\n",
       "      <td>21.95</td>\n",
       "    </tr>\n",
       "    <tr>\n",
       "      <th>1</th>\n",
       "      <td>8844</td>\n",
       "      <td>35</td>\n",
       "      <td>['Animation', 'Comedy', 'Family']</td>\n",
       "      <td>Jumanji</td>\n",
       "      <td>17.02</td>\n",
       "    </tr>\n",
       "    <tr>\n",
       "      <th>2</th>\n",
       "      <td>15602</td>\n",
       "      <td>10751</td>\n",
       "      <td>['Animation', 'Comedy', 'Family']</td>\n",
       "      <td>Grumpier Old Men</td>\n",
       "      <td>11.71</td>\n",
       "    </tr>\n",
       "    <tr>\n",
       "      <th>3</th>\n",
       "      <td>31357</td>\n",
       "      <td>12</td>\n",
       "      <td>['Adventure', 'Fantasy', 'Family']</td>\n",
       "      <td>Waiting to Exhale</td>\n",
       "      <td>3.86</td>\n",
       "    </tr>\n",
       "    <tr>\n",
       "      <th>4</th>\n",
       "      <td>11862</td>\n",
       "      <td>14</td>\n",
       "      <td>['Adventure', 'Fantasy', 'Family']</td>\n",
       "      <td>Father of the Bride Part II</td>\n",
       "      <td>8.39</td>\n",
       "    </tr>\n",
       "  </tbody>\n",
       "</table>\n",
       "</div>"
      ],
      "text/plain": [
       "      id  genero_id                              genero  \\\n",
       "0    862         16   ['Animation', 'Comedy', 'Family']   \n",
       "1   8844         35   ['Animation', 'Comedy', 'Family']   \n",
       "2  15602      10751   ['Animation', 'Comedy', 'Family']   \n",
       "3  31357         12  ['Adventure', 'Fantasy', 'Family']   \n",
       "4  11862         14  ['Adventure', 'Fantasy', 'Family']   \n",
       "\n",
       "                         title  popularity  \n",
       "0                    Toy Story       21.95  \n",
       "1                      Jumanji       17.02  \n",
       "2             Grumpier Old Men       11.71  \n",
       "3            Waiting to Exhale        3.86  \n",
       "4  Father of the Bride Part II        8.39  "
      ]
     },
     "execution_count": 84,
     "metadata": {},
     "output_type": "execute_result"
    }
   ],
   "source": [
    "# Agregar las nuevas columnas al dataset movie_genres\n",
    "movie_ML = pd.concat([movie_genres, datasets_final[['title', 'popularity']]], axis=1).round(2)\n",
    "\n",
    "movie_ML.rename(columns={'genero_nombre': 'genero'}, inplace=True)\n",
    "\n",
    "# Mostrar las primeras filas del dataset actualizado\n",
    "movie_ML.head()"
   ]
  },
  {
   "cell_type": "code",
   "execution_count": 87,
   "metadata": {},
   "outputs": [],
   "source": [
    "movie_ML.to_csv('DATA/ML_data_movies.csv', index=False)"
   ]
  },
  {
   "cell_type": "code",
   "execution_count": 88,
   "metadata": {},
   "outputs": [],
   "source": [
    "def movie_recommendation(movie_title):\n",
    "    # Cargar el archivo CSV con los datos\n",
    "    movie_data = pd.read_csv('DATA/ML_data_movies.csv')\n",
    "\n",
    "    # Buscar la película por título en la columna 'title'\n",
    "    movie = movie_ML[movie_ML['title'] == movie_title]\n",
    "\n",
    "    if len(movie) == 0:\n",
    "        return \"La película no se encuentra en la base de datos.\"\n",
    "\n",
    "    # Obtener el género y la popularidad de la película\n",
    "    movie_genre = movie['genero'].values[0]\n",
    "    movie_popularity = movie['popularity'].values[0]\n",
    "\n",
    "    # Crear una matriz de características para el modelo de vecinos más cercanos\n",
    "    features = movie_data[['popularity']]\n",
    "    genres = movie_data['genero'].str.get_dummies(sep=' ')\n",
    "    features = pd.concat([features, genres], axis=1)\n",
    "\n",
    "    # Manejar valores faltantes (NaN) reemplazándolos por ceros\n",
    "    features = features.fillna(0)\n",
    "\n",
    "    # Crear el modelo de vecinos más cercanos\n",
    "    nn_model = NearestNeighbors(n_neighbors=6, metric='euclidean')\n",
    "    nn_model.fit(features)\n",
    "\n",
    "    # Encontrar las películas más similares\n",
    "    _, indices = nn_model.kneighbors([[movie_popularity] + [0] * len(genres.columns)], n_neighbors=6)\n",
    "\n",
    "    # Obtener los títulos de las películas recomendadas\n",
    "    recommendations = movie_data.iloc[indices[0][1:]]['title']\n",
    "\n",
    "    return recommendations\n",
    "\n"
   ]
  },
  {
   "cell_type": "code",
   "execution_count": 89,
   "metadata": {},
   "outputs": [
    {
     "name": "stdout",
     "output_type": "stream",
     "text": [
      "Películas recomendadas para 'Batman':\n",
      "17287                 Super 8\n",
      "8764     French Connection II\n",
      "41041              La La Land\n",
      "6883             Passenger 57\n",
      "2598             American Pie\n",
      "Name: title, dtype: object\n"
     ]
    },
    {
     "name": "stderr",
     "output_type": "stream",
     "text": [
      "c:\\Users\\Raksasa\\AppData\\Local\\Programs\\Python\\Python310\\lib\\site-packages\\sklearn\\base.py:439: UserWarning: X does not have valid feature names, but NearestNeighbors was fitted with feature names\n",
      "  warnings.warn(\n"
     ]
    }
   ],
   "source": [
    "# Ejemplo de uso de la función\n",
    "movie_title = 'Batman'\n",
    "recommended_movies = movie_recommendation(movie_title)\n",
    "print(f\"Películas recomendadas para '{movie_title}':\")\n",
    "print(recommended_movies)"
   ]
  }
 ],
 "metadata": {
  "kernelspec": {
   "display_name": "Python 3",
   "language": "python",
   "name": "python3"
  },
  "language_info": {
   "codemirror_mode": {
    "name": "ipython",
    "version": 3
   },
   "file_extension": ".py",
   "mimetype": "text/x-python",
   "name": "python",
   "nbconvert_exporter": "python",
   "pygments_lexer": "ipython3",
   "version": "3.10.8"
  },
  "orig_nbformat": 4
 },
 "nbformat": 4,
 "nbformat_minor": 2
}
